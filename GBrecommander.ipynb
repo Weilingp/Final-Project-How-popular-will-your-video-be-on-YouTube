{
 "cells": [
  {
   "cell_type": "code",
   "execution_count": 1,
   "id": "de9d4587-667c-4350-baaf-934a8f2994d9",
   "metadata": {},
   "outputs": [
    {
     "name": "stderr",
     "output_type": "stream",
     "text": [
      "c:\\Users\\steph\\anaconda3\\lib\\site-packages\\scipy\\__init__.py:146: UserWarning: A NumPy version >=1.16.5 and <1.23.0 is required for this version of SciPy (detected version 1.23.1\n",
      "  warnings.warn(f\"A NumPy version >={np_minversion} and <{np_maxversion}\"\n"
     ]
    }
   ],
   "source": [
    "import pandas as pd\n",
    "from datetime import datetime\n",
    "import matplotlib.pyplot as plt\n",
    "import seaborn as sns"
   ]
  },
  {
   "cell_type": "code",
   "execution_count": 3,
   "id": "a7cb246c-6256-4371-a4f5-ce705bebe48c",
   "metadata": {},
   "outputs": [
    {
     "name": "stderr",
     "output_type": "stream",
     "text": [
      "C:\\Users\\steph\\anaconda3\\lib\\site-packages\\IPython\\core\\interactiveshell.py:3444: FutureWarning: The error_bad_lines argument has been deprecated and will be removed in a future version.\n",
      "\n",
      "\n",
      "  exec(code_obj, self.user_global_ns, self.user_ns)\n"
     ]
    }
   ],
   "source": [
    "df_GBvideo = pd.read_csv(\"CSV_Files/GBvideos.csv\", error_bad_lines=False)#, index_col= \"video_id\")\n",
    "category = pd.read_csv(\"CSV_Files/category_names.csv\")\n",
    "#df_DEvideo.head()"
   ]
  },
  {
   "cell_type": "code",
   "execution_count": 4,
   "id": "12830816-02d9-41ee-a1ef-fec0175f9b41",
   "metadata": {},
   "outputs": [],
   "source": [
    "df =pd.merge(df_GBvideo, category, on='category_id')"
   ]
  },
  {
   "cell_type": "code",
   "execution_count": 5,
   "id": "808bd84f-1f59-4c64-8f92-b696e909cf0d",
   "metadata": {},
   "outputs": [
    {
     "name": "stdout",
     "output_type": "stream",
     "text": [
      "<class 'pandas.core.frame.DataFrame'>\n",
      "Int64Index: 38916 entries, 0 to 38915\n",
      "Data columns (total 17 columns):\n",
      " #   Column                  Non-Null Count  Dtype              \n",
      "---  ------                  --------------  -----              \n",
      " 0   video_id                38916 non-null  object             \n",
      " 1   trending_date           38916 non-null  datetime64[ns, UTC]\n",
      " 2   title                   38916 non-null  object             \n",
      " 3   channel_title           38916 non-null  object             \n",
      " 4   category_id             38916 non-null  int64              \n",
      " 5   publish_time            38916 non-null  datetime64[ns, UTC]\n",
      " 6   tags                    38916 non-null  object             \n",
      " 7   views                   38916 non-null  int64              \n",
      " 8   likes                   38916 non-null  int64              \n",
      " 9   dislikes                38916 non-null  int64              \n",
      " 10  comment_count           38916 non-null  int64              \n",
      " 11  thumbnail_link          38916 non-null  object             \n",
      " 12  comments_disabled       38916 non-null  bool               \n",
      " 13  ratings_disabled        38916 non-null  bool               \n",
      " 14  video_error_or_removed  38916 non-null  bool               \n",
      " 15  description             38304 non-null  object             \n",
      " 16  category_names          38916 non-null  object             \n",
      "dtypes: bool(3), datetime64[ns, UTC](2), int64(5), object(7)\n",
      "memory usage: 4.6+ MB\n"
     ]
    }
   ],
   "source": [
    "df['publish_time']=pd.to_datetime(df['publish_time'])\n",
    "df['trending_date']=pd.to_datetime(df['publish_time'],format='%y%m%d')\n",
    "df.info()"
   ]
  },
  {
   "cell_type": "code",
   "execution_count": 6,
   "id": "ae368e48-1abc-49e5-b052-b8b435a98770",
   "metadata": {},
   "outputs": [],
   "source": [
    "df_views_likes_dislikes_comment_count = df[['video_id', 'views', 'likes', 'dislikes', 'comment_count']]"
   ]
  },
  {
   "cell_type": "code",
   "execution_count": null,
   "id": "a0b21f1b-b675-4f66-8e3d-c7217b3ad746",
   "metadata": {},
   "outputs": [],
   "source": [
    "#chanels with more views and more views"
   ]
  },
  {
   "cell_type": "code",
   "execution_count": 7,
   "id": "aeb267ab-5255-4fe3-bdfb-70a3c72959d2",
   "metadata": {},
   "outputs": [],
   "source": [
    "def channel_with_more_videos(n):\n",
    "    \n",
    "    chanelsbysize =df.groupby(\"channel_title\").size().reset_index(name=\"video_count\")\n",
    "    chanelsbysize = chanelsbysize.sort_values(\"video_count\", ascending=False).head(n)\n",
    "    top_recommendations = chanelsbysize[['channel_title', 'video_count']].reset_index()\n",
    "    fig, ax = plt.subplots(figsize=(8,8))\n",
    "    channel = sns.barplot(x=\"video_count\", y=\"channel_title\", data=top_recommendations,palette=('flare'), ax=ax)\n",
    "    channel = ax.set(xlabel=\"number of videos base on the size of the channel\", ylabel=\"top20 Channels with most trending videos\", title = \"n Channels with more trending videos\")\n",
    "    return top_recommendations"
   ]
  },
  {
   "cell_type": "code",
   "execution_count": null,
   "id": "513c9993-b4cf-48c5-a7e9-a10fb552f7e7",
   "metadata": {},
   "outputs": [],
   "source": [
    "##top n channels with more videos on trend  2017-2018"
   ]
  },
  {
   "cell_type": "code",
   "execution_count": 8,
   "id": "916f8912-5497-4160-9b72-7366ffe6237c",
   "metadata": {},
   "outputs": [
    {
     "data": {
      "text/html": [
       "<div>\n",
       "<style scoped>\n",
       "    .dataframe tbody tr th:only-of-type {\n",
       "        vertical-align: middle;\n",
       "    }\n",
       "\n",
       "    .dataframe tbody tr th {\n",
       "        vertical-align: top;\n",
       "    }\n",
       "\n",
       "    .dataframe thead th {\n",
       "        text-align: right;\n",
       "    }\n",
       "</style>\n",
       "<table border=\"1\" class=\"dataframe\">\n",
       "  <thead>\n",
       "    <tr style=\"text-align: right;\">\n",
       "      <th></th>\n",
       "      <th>index</th>\n",
       "      <th>channel_title</th>\n",
       "      <th>video_count</th>\n",
       "    </tr>\n",
       "  </thead>\n",
       "  <tbody>\n",
       "    <tr>\n",
       "      <th>0</th>\n",
       "      <td>1283</td>\n",
       "      <td>The Tonight Show Starring Jimmy Fallon</td>\n",
       "      <td>208</td>\n",
       "    </tr>\n",
       "    <tr>\n",
       "      <th>1</th>\n",
       "      <td>622</td>\n",
       "      <td>Jimmy Kimmel Live</td>\n",
       "      <td>207</td>\n",
       "    </tr>\n",
       "    <tr>\n",
       "      <th>2</th>\n",
       "      <td>1297</td>\n",
       "      <td>TheEllenShow</td>\n",
       "      <td>207</td>\n",
       "    </tr>\n",
       "    <tr>\n",
       "      <th>3</th>\n",
       "      <td>1137</td>\n",
       "      <td>Saturday Night Live</td>\n",
       "      <td>206</td>\n",
       "    </tr>\n",
       "    <tr>\n",
       "      <th>4</th>\n",
       "      <td>1400</td>\n",
       "      <td>WWE</td>\n",
       "      <td>205</td>\n",
       "    </tr>\n",
       "    <tr>\n",
       "      <th>5</th>\n",
       "      <td>1263</td>\n",
       "      <td>The Late Late Show with James Corden</td>\n",
       "      <td>202</td>\n",
       "    </tr>\n",
       "    <tr>\n",
       "      <th>6</th>\n",
       "      <td>719</td>\n",
       "      <td>Late Night with Seth Meyers</td>\n",
       "      <td>194</td>\n",
       "    </tr>\n",
       "    <tr>\n",
       "      <th>7</th>\n",
       "      <td>173</td>\n",
       "      <td>Breakfast Club Power 105.1 FM</td>\n",
       "      <td>193</td>\n",
       "    </tr>\n",
       "    <tr>\n",
       "      <th>8</th>\n",
       "      <td>1264</td>\n",
       "      <td>The Late Show with Stephen Colbert</td>\n",
       "      <td>189</td>\n",
       "    </tr>\n",
       "    <tr>\n",
       "      <th>9</th>\n",
       "      <td>911</td>\n",
       "      <td>Netflix</td>\n",
       "      <td>187</td>\n",
       "    </tr>\n",
       "  </tbody>\n",
       "</table>\n",
       "</div>"
      ],
      "text/plain": [
       "   index                           channel_title  video_count\n",
       "0   1283  The Tonight Show Starring Jimmy Fallon          208\n",
       "1    622                       Jimmy Kimmel Live          207\n",
       "2   1297                            TheEllenShow          207\n",
       "3   1137                     Saturday Night Live          206\n",
       "4   1400                                     WWE          205\n",
       "5   1263    The Late Late Show with James Corden          202\n",
       "6    719             Late Night with Seth Meyers          194\n",
       "7    173           Breakfast Club Power 105.1 FM          193\n",
       "8   1264      The Late Show with Stephen Colbert          189\n",
       "9    911                                 Netflix          187"
      ]
     },
     "execution_count": 8,
     "metadata": {},
     "output_type": "execute_result"
    },
    {
     "data": {
      "image/png": "[encoded data removed]",
      "text/plain": [
       "<Figure size 576x576 with 1 Axes>"
      ]
     },
     "metadata": {
      "needs_background": "light"
     },
     "output_type": "display_data"
    }
   ],
   "source": [
    "channel_with_more_videos(10)"
   ]
  },
  {
   "cell_type": "code",
   "execution_count": 9,
   "id": "dc2d14a4-2e4c-45c0-a9cd-ab1eed1ef5ca",
   "metadata": {},
   "outputs": [],
   "source": [
    "#chanels with more views and more views"
   ]
  },
  {
   "cell_type": "code",
   "execution_count": 10,
   "id": "42106e33-302c-462b-8b2c-378ecb6b7f64",
   "metadata": {},
   "outputs": [],
   "source": [
    "def channel_with_more_videos_and_View(n):\n",
    "    chanelsbysizeandview = pd.DataFrame(df[['channel_title','views']].groupby('channel_title')['views'].mean())#.reset_index(name=\"view_mean\")\n",
    "    chanelsbysizeandview['channels_count'] = df[['channel_title','views']].groupby('channel_title')['views'].count()\n",
    "    \n",
    "    chanelsbysizeandview_avg = chanelsbysizeandview.loc[(chanelsbysizeandview.views >= 800000) & (chanelsbysizeandview.channels_count >= 50)]\n",
    "    \n",
    "    topn_chanelsbysizeand_views =  chanelsbysizeandview_avg.sort_values(by=('views'), ascending=False).head(n)#.reset_index()\n",
    "    top_recommendations = topn_chanelsbysizeand_views.index\n",
    "    return top_recommendations"
   ]
  },
  {
   "cell_type": "code",
   "execution_count": 11,
   "id": "96fca380-26ad-4090-9d26-3e0a88ea4c6a",
   "metadata": {},
   "outputs": [
    {
     "data": {
      "text/plain": [
       "Index(['NickyJamTV', 'DrakeVEVO', 'Ozuna', 'Ed Sheeran', 'TaylorSwiftVEVO'], dtype='object', name='channel_title')"
      ]
     },
     "execution_count": 11,
     "metadata": {},
     "output_type": "execute_result"
    }
   ],
   "source": [
    "channel_with_more_videos_and_View(5)"
   ]
  },
  {
   "cell_type": "code",
   "execution_count": null,
   "id": "8ee5a1fd-0bc8-4abc-8a30-1e5b009240eb",
   "metadata": {},
   "outputs": [],
   "source": [
    "#video title with the most view per channel_title"
   ]
  },
  {
   "cell_type": "code",
   "execution_count": 12,
   "id": "46c71db8-e164-493e-8c56-92b1d4df75cd",
   "metadata": {},
   "outputs": [],
   "source": [
    "def video_rec_per_channel(channel):\n",
    "    \n",
    "    videos = []\n",
    "    \n",
    "    for i in (df['channel_title']):\n",
    "        \n",
    "        if i == channel:\n",
    "            \n",
    "            videos = df.loc[df['channel_title'] == i, :]\n",
    "            \n",
    "            channel_withmoreviews = videos.groupby('title')[['views']].sum()#.reset_index()\n",
    "            channel_withmoreviews.sort_values(by='views',inplace=True,ascending=False)\n",
    "            channel_withmoreviews.head(1)\n",
    "    \n",
    "    return channel_withmoreviews.head(1)"
   ]
  },
  {
   "cell_type": "code",
   "execution_count": 13,
   "id": "6a156d32-a172-42cb-b053-d88f0479f6eb",
   "metadata": {},
   "outputs": [
    {
     "data": {
      "text/html": [
       "<div>\n",
       "<style scoped>\n",
       "    .dataframe tbody tr th:only-of-type {\n",
       "        vertical-align: middle;\n",
       "    }\n",
       "\n",
       "    .dataframe tbody tr th {\n",
       "        vertical-align: top;\n",
       "    }\n",
       "\n",
       "    .dataframe thead th {\n",
       "        text-align: right;\n",
       "    }\n",
       "</style>\n",
       "<table border=\"1\" class=\"dataframe\">\n",
       "  <thead>\n",
       "    <tr style=\"text-align: right;\">\n",
       "      <th></th>\n",
       "      <th>views</th>\n",
       "    </tr>\n",
       "    <tr>\n",
       "      <th>title</th>\n",
       "      <th></th>\n",
       "    </tr>\n",
       "  </thead>\n",
       "  <tbody>\n",
       "    <tr>\n",
       "      <th>13 Reasons Why: Season 2 | Official Trailer [HD] | Netflix</th>\n",
       "      <td>165092557</td>\n",
       "    </tr>\n",
       "  </tbody>\n",
       "</table>\n",
       "</div>"
      ],
      "text/plain": [
       "                                                        views\n",
       "title                                                        \n",
       "13 Reasons Why: Season 2 | Official Trailer [HD...  165092557"
      ]
     },
     "execution_count": 13,
     "metadata": {},
     "output_type": "execute_result"
    }
   ],
   "source": [
    "video_rec_per_channel('Netflix')"
   ]
  },
  {
   "cell_type": "code",
   "execution_count": 14,
   "id": "b4cbc6af-84ba-43a8-bf5c-59aa184afcfe",
   "metadata": {},
   "outputs": [],
   "source": [
    "def cat_rec (category):\n",
    "\n",
    "    videos = []\n",
    "    \n",
    "    for i in (df['category_names']):\n",
    "        \n",
    "        if i == category:\n",
    "            videos = df.loc[df['category_names'] == i, :]\n",
    "            video = videos.groupby(['publish_year', 'publish_month', 'channel_title', 'title', 'category_names']).agg({'views': 'sum'}).sort_values(('views'), ascending=False).head(5)\n",
    "    \n",
    "    return video"
   ]
  },
  {
   "cell_type": "code",
   "execution_count": null,
   "id": "dc5555fa-728f-4861-826c-d4e7567be2fc",
   "metadata": {},
   "outputs": [],
   "source": [
    "cat_rec('Autos & Vehicles')"
   ]
  }
 ],
 "metadata": {
  "kernelspec": {
   "display_name": "Python 3.9.7 ('base')",
   "language": "python",
   "name": "python3"
  },
  "language_info": {
   "codemirror_mode": {
    "name": "ipython",
    "version": 3
   },
   "file_extension": ".py",
   "mimetype": "text/x-python",
   "name": "python",
   "nbconvert_exporter": "python",
   "pygments_lexer": "ipython3",
   "version": "3.9.7"
  },
  "vscode": {
   "interpreter": {
    "hash": "978a37df73f74a92b6771ec2b219500c5d24072bb2710c7c15688cbcc4259e5f"
   }
  }
 },
 "nbformat": 4,
 "nbformat_minor": 5
}
