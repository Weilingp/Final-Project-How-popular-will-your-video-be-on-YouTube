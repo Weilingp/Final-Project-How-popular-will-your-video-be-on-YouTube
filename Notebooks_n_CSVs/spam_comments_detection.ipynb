{
 "cells": [
  {
   "cell_type": "code",
   "execution_count": null,
   "id": "1768f666-4331-42bc-964f-0f66cf2324cf",
   "metadata": {},
   "outputs": [],
   "source": [
    "import string\n",
    "import matplotlib.pyplot as plt \n",
    "import pandas as pd\n",
    "import numpy as np\n",
    "import seaborn as sns\n",
    "from sklearn.metrics import accuracy_score\n",
    "from sklearn.metrics import classification_report, confusion_matrix\n",
    "from sklearn.model_selection import train_test_split\n",
    "from sklearn.feature_extraction.text import TfidfVectorizer"
   ]
  },
  {
   "cell_type": "code",
   "execution_count": 5,
   "id": "2d9c307b-6132-44a3-a756-0cab56a2d9bb",
   "metadata": {},
   "outputs": [
    {
     "data": {
      "text/html": [
       "<div>\n",
       "<style scoped>\n",
       "    .dataframe tbody tr th:only-of-type {\n",
       "        vertical-align: middle;\n",
       "    }\n",
       "\n",
       "    .dataframe tbody tr th {\n",
       "        vertical-align: top;\n",
       "    }\n",
       "\n",
       "    .dataframe thead th {\n",
       "        text-align: right;\n",
       "    }\n",
       "</style>\n",
       "<table border=\"1\" class=\"dataframe\">\n",
       "  <thead>\n",
       "    <tr style=\"text-align: right;\">\n",
       "      <th></th>\n",
       "      <th>label</th>\n",
       "      <th>clean_comment</th>\n",
       "      <th>Label</th>\n",
       "    </tr>\n",
       "    <tr>\n",
       "      <th>video_id</th>\n",
       "      <th></th>\n",
       "      <th></th>\n",
       "      <th></th>\n",
       "    </tr>\n",
       "  </thead>\n",
       "  <tbody>\n",
       "    <tr>\n",
       "      <th>jt2OHQh0HoQ</th>\n",
       "      <td>False</td>\n",
       "      <td>it s more accurate to call it the m 1000 becau...</td>\n",
       "      <td>0</td>\n",
       "    </tr>\n",
       "    <tr>\n",
       "      <th>jt2OHQh0HoQ</th>\n",
       "      <td>False</td>\n",
       "      <td>to be there with a samsung phone n</td>\n",
       "      <td>0</td>\n",
       "    </tr>\n",
       "    <tr>\n",
       "      <th>jt2OHQh0HoQ</th>\n",
       "      <td>False</td>\n",
       "      <td>thank gosh a place i can watch it without havi...</td>\n",
       "      <td>0</td>\n",
       "    </tr>\n",
       "    <tr>\n",
       "      <th>jt2OHQh0HoQ</th>\n",
       "      <td>False</td>\n",
       "      <td>what happened to the home button on the iphone...</td>\n",
       "      <td>0</td>\n",
       "    </tr>\n",
       "    <tr>\n",
       "      <th>jt2OHQh0HoQ</th>\n",
       "      <td>False</td>\n",
       "      <td>power is the disease care is the cure keep car...</td>\n",
       "      <td>0</td>\n",
       "    </tr>\n",
       "  </tbody>\n",
       "</table>\n",
       "</div>"
      ],
      "text/plain": [
       "             label                                      clean_comment  Label\n",
       "video_id                                                                    \n",
       "jt2OHQh0HoQ  False  it s more accurate to call it the m 1000 becau...      0\n",
       "jt2OHQh0HoQ  False                 to be there with a samsung phone n      0\n",
       "jt2OHQh0HoQ  False  thank gosh a place i can watch it without havi...      0\n",
       "jt2OHQh0HoQ  False  what happened to the home button on the iphone...      0\n",
       "jt2OHQh0HoQ  False  power is the disease care is the cure keep car...      0"
      ]
     },
     "execution_count": 5,
     "metadata": {},
     "output_type": "execute_result"
    }
   ],
   "source": [
    "GBcomments = pd.read_csv(\"created_csvfiles/Cleaned_comments_witth Label.csv\", index_col = \"video_id\") #\n",
    "GBcomments.head()"
   ]
  },
  {
   "cell_type": "code",
   "execution_count": 7,
   "id": "15398270-ed6b-4c76-85c1-1e5742c2dac4",
   "metadata": {},
   "outputs": [
    {
     "data": {
      "text/plain": [
       "5572"
      ]
     },
     "execution_count": 7,
     "metadata": {},
     "output_type": "execute_result"
    }
   ],
   "source": [
    "GBcomments.duplicated().sum()"
   ]
  },
  {
   "cell_type": "code",
   "execution_count": 8,
   "id": "ea9f3a39-272b-44a0-ad1f-e44fd5819a7b",
   "metadata": {},
   "outputs": [
    {
     "data": {
      "text/html": [
       "<div>\n",
       "<style scoped>\n",
       "    .dataframe tbody tr th:only-of-type {\n",
       "        vertical-align: middle;\n",
       "    }\n",
       "\n",
       "    .dataframe tbody tr th {\n",
       "        vertical-align: top;\n",
       "    }\n",
       "\n",
       "    .dataframe thead th {\n",
       "        text-align: right;\n",
       "    }\n",
       "</style>\n",
       "<table border=\"1\" class=\"dataframe\">\n",
       "  <thead>\n",
       "    <tr style=\"text-align: right;\">\n",
       "      <th></th>\n",
       "      <th>label</th>\n",
       "      <th>clean_comment</th>\n",
       "      <th>Label</th>\n",
       "    </tr>\n",
       "    <tr>\n",
       "      <th>video_id</th>\n",
       "      <th></th>\n",
       "      <th></th>\n",
       "      <th></th>\n",
       "    </tr>\n",
       "  </thead>\n",
       "  <tbody>\n",
       "    <tr>\n",
       "      <th>jt2OHQh0HoQ</th>\n",
       "      <td>False</td>\n",
       "      <td>it s more accurate to call it the m 1000 becau...</td>\n",
       "      <td>0</td>\n",
       "    </tr>\n",
       "    <tr>\n",
       "      <th>jt2OHQh0HoQ</th>\n",
       "      <td>False</td>\n",
       "      <td>to be there with a samsung phone n</td>\n",
       "      <td>0</td>\n",
       "    </tr>\n",
       "    <tr>\n",
       "      <th>jt2OHQh0HoQ</th>\n",
       "      <td>False</td>\n",
       "      <td>thank gosh a place i can watch it without havi...</td>\n",
       "      <td>0</td>\n",
       "    </tr>\n",
       "    <tr>\n",
       "      <th>jt2OHQh0HoQ</th>\n",
       "      <td>False</td>\n",
       "      <td>what happened to the home button on the iphone...</td>\n",
       "      <td>0</td>\n",
       "    </tr>\n",
       "    <tr>\n",
       "      <th>jt2OHQh0HoQ</th>\n",
       "      <td>False</td>\n",
       "      <td>power is the disease care is the cure keep car...</td>\n",
       "      <td>0</td>\n",
       "    </tr>\n",
       "    <tr>\n",
       "      <th>...</th>\n",
       "      <td>...</td>\n",
       "      <td>...</td>\n",
       "      <td>...</td>\n",
       "    </tr>\n",
       "    <tr>\n",
       "      <th>lLN1FwiqGwc</th>\n",
       "      <td>False</td>\n",
       "      <td>gasp n gasp n gasp</td>\n",
       "      <td>0</td>\n",
       "    </tr>\n",
       "    <tr>\n",
       "      <th>lLN1FwiqGwc</th>\n",
       "      <td>False</td>\n",
       "      <td>yeah but does everybody float</td>\n",
       "      <td>0</td>\n",
       "    </tr>\n",
       "    <tr>\n",
       "      <th>lLN1FwiqGwc</th>\n",
       "      <td>False</td>\n",
       "      <td>that meme me d ace</td>\n",
       "      <td>0</td>\n",
       "    </tr>\n",
       "    <tr>\n",
       "      <th>lLN1FwiqGwc</th>\n",
       "      <td>False</td>\n",
       "      <td>10 43 is that miles ups hur</td>\n",
       "      <td>0</td>\n",
       "    </tr>\n",
       "    <tr>\n",
       "      <th>lLN1FwiqGwc</th>\n",
       "      <td>False</td>\n",
       "      <td>wa ha nwa ha nwa ha</td>\n",
       "      <td>0</td>\n",
       "    </tr>\n",
       "  </tbody>\n",
       "</table>\n",
       "<p>352452 rows × 3 columns</p>\n",
       "</div>"
      ],
      "text/plain": [
       "             label                                      clean_comment  Label\n",
       "video_id                                                                    \n",
       "jt2OHQh0HoQ  False  it s more accurate to call it the m 1000 becau...      0\n",
       "jt2OHQh0HoQ  False                 to be there with a samsung phone n      0\n",
       "jt2OHQh0HoQ  False  thank gosh a place i can watch it without havi...      0\n",
       "jt2OHQh0HoQ  False  what happened to the home button on the iphone...      0\n",
       "jt2OHQh0HoQ  False  power is the disease care is the cure keep car...      0\n",
       "...            ...                                                ...    ...\n",
       "lLN1FwiqGwc  False                                 gasp n gasp n gasp      0\n",
       "lLN1FwiqGwc  False                      yeah but does everybody float      0\n",
       "lLN1FwiqGwc  False                                 that meme me d ace      0\n",
       "lLN1FwiqGwc  False                        10 43 is that miles ups hur      0\n",
       "lLN1FwiqGwc  False                                wa ha nwa ha nwa ha      0\n",
       "\n",
       "[352452 rows x 3 columns]"
      ]
     },
     "execution_count": 8,
     "metadata": {},
     "output_type": "execute_result"
    }
   ],
   "source": [
    "GBcomments.drop_duplicates()"
   ]
  },
  {
   "cell_type": "code",
   "execution_count": 9,
   "id": "9a66e36e-ad00-46a9-84e2-974352e0ff53",
   "metadata": {},
   "outputs": [
    {
     "data": {
      "text/plain": [
       "(358024, 3)"
      ]
     },
     "execution_count": 9,
     "metadata": {},
     "output_type": "execute_result"
    }
   ],
   "source": [
    "GBcomments.shape"
   ]
  },
  {
   "cell_type": "code",
   "execution_count": 10,
   "id": "6ced09b2-97d5-4972-9925-4f41c0f0b313",
   "metadata": {},
   "outputs": [
    {
     "data": {
      "text/plain": [
       "label            0\n",
       "clean_comment    0\n",
       "Label            0\n",
       "dtype: int64"
      ]
     },
     "execution_count": 10,
     "metadata": {},
     "output_type": "execute_result"
    }
   ],
   "source": [
    "GBcomments.isna().sum()\n",
    "newdf = GBcomments.dropna()\n",
    "newdf.isna().sum()"
   ]
  },
  {
   "cell_type": "code",
   "execution_count": 11,
   "id": "0d303506-f985-498c-808e-58678dc3f044",
   "metadata": {},
   "outputs": [],
   "source": [
    "X_train, X_test, y_train, y_test = train_test_split(newdf[\"clean_comment\"], newdf[\"Label\"])"
   ]
  },
  {
   "cell_type": "code",
   "execution_count": 12,
   "id": "cdaf40f1-d25b-461e-8fb6-ec2e794f0003",
   "metadata": {},
   "outputs": [
    {
     "data": {
      "text/plain": [
       "(268517, 49845)"
      ]
     },
     "execution_count": 12,
     "metadata": {},
     "output_type": "execute_result"
    }
   ],
   "source": [
    "tfidf_vect = TfidfVectorizer()\n",
    "X_train_tfidf = tfidf_vect.fit_transform(X_train)\n",
    "X_train_tfidf.shape"
   ]
  },
  {
   "cell_type": "code",
   "execution_count": 13,
   "id": "1a95cfbd-461f-40a8-b95d-b410793654be",
   "metadata": {},
   "outputs": [
    {
     "data": {
      "text/plain": [
       "MultinomialNB()"
      ]
     },
     "execution_count": 13,
     "metadata": {},
     "output_type": "execute_result"
    }
   ],
   "source": [
    "from sklearn.naive_bayes import MultinomialNB\n",
    "\n",
    "model = MultinomialNB()\n",
    "model.fit(X_train_tfidf, y_train)"
   ]
  },
  {
   "cell_type": "code",
   "execution_count": 14,
   "id": "308a61b2-8184-4b7a-8ace-18345fc33f13",
   "metadata": {},
   "outputs": [
    {
     "data": {
      "text/plain": [
       "89506"
      ]
     },
     "execution_count": 14,
     "metadata": {},
     "output_type": "execute_result"
    }
   ],
   "source": [
    "X_test_tfidf = tfidf_vect.transform(X_test)\n",
    "predictions = model.predict(X_test_tfidf)\n",
    "len(predictions)"
   ]
  },
  {
   "cell_type": "code",
   "execution_count": 15,
   "id": "7c0b1e6e-100d-449e-8409-b98c4ab0869b",
   "metadata": {},
   "outputs": [
    {
     "data": {
      "text/plain": [
       "array([[86882,    15],\n",
       "       [ 1836,   773]], dtype=int64)"
      ]
     },
     "execution_count": 15,
     "metadata": {},
     "output_type": "execute_result"
    }
   ],
   "source": [
    "confusion_matrix(y_test, predictions)"
   ]
  },
  {
   "cell_type": "code",
   "execution_count": 16,
   "id": "44154e3e-0e93-46dc-8751-678f4ab4c4f4",
   "metadata": {},
   "outputs": [
    {
     "data": {
      "text/plain": [
       "0.9793198221348289"
      ]
     },
     "execution_count": 16,
     "metadata": {},
     "output_type": "execute_result"
    }
   ],
   "source": [
    "model.score(X_test_tfidf, y_test)"
   ]
  },
  {
   "cell_type": "code",
   "execution_count": 17,
   "id": "5323fc41-53b1-445e-b81c-56b9ddd8a433",
   "metadata": {},
   "outputs": [
    {
     "name": "stdout",
     "output_type": "stream",
     "text": [
      "              precision    recall  f1-score   support\n",
      "\n",
      "           0       0.98      1.00      0.99     86897\n",
      "           1       0.98      0.30      0.46      2609\n",
      "\n",
      "    accuracy                           0.98     89506\n",
      "   macro avg       0.98      0.65      0.72     89506\n",
      "weighted avg       0.98      0.98      0.97     89506\n",
      "\n"
     ]
    }
   ],
   "source": [
    "print(classification_report(y_test, predictions))"
   ]
  },
  {
   "cell_type": "code",
   "execution_count": 132,
   "id": "d3d2bd30-4d43-45b9-9ca6-2fe61c04c42a",
   "metadata": {},
   "outputs": [
    {
     "data": {
      "text/html": [
       "<div>\n",
       "<style scoped>\n",
       "    .dataframe tbody tr th:only-of-type {\n",
       "        vertical-align: middle;\n",
       "    }\n",
       "\n",
       "    .dataframe tbody tr th {\n",
       "        vertical-align: top;\n",
       "    }\n",
       "\n",
       "    .dataframe thead th {\n",
       "        text-align: right;\n",
       "    }\n",
       "</style>\n",
       "<table border=\"1\" class=\"dataframe\">\n",
       "  <thead>\n",
       "    <tr style=\"text-align: right;\">\n",
       "      <th></th>\n",
       "      <th>predictions</th>\n",
       "      <th>true_values</th>\n",
       "    </tr>\n",
       "    <tr>\n",
       "      <th>video_id</th>\n",
       "      <th></th>\n",
       "      <th></th>\n",
       "    </tr>\n",
       "  </thead>\n",
       "  <tbody>\n",
       "    <tr>\n",
       "      <th>PbGSiJ9iat8</th>\n",
       "      <td>0</td>\n",
       "      <td>0</td>\n",
       "    </tr>\n",
       "    <tr>\n",
       "      <th>0pwttmAYCTw</th>\n",
       "      <td>0</td>\n",
       "      <td>0</td>\n",
       "    </tr>\n",
       "    <tr>\n",
       "      <th>3JYl1XREYLE</th>\n",
       "      <td>0</td>\n",
       "      <td>0</td>\n",
       "    </tr>\n",
       "    <tr>\n",
       "      <th>6L-nhETPAfY</th>\n",
       "      <td>0</td>\n",
       "      <td>0</td>\n",
       "    </tr>\n",
       "    <tr>\n",
       "      <th>TYR_7CeO39E</th>\n",
       "      <td>0</td>\n",
       "      <td>0</td>\n",
       "    </tr>\n",
       "  </tbody>\n",
       "</table>\n",
       "</div>"
      ],
      "text/plain": [
       "             predictions  true_values\n",
       "video_id                             \n",
       "PbGSiJ9iat8            0            0\n",
       "0pwttmAYCTw            0            0\n",
       "3JYl1XREYLE            0            0\n",
       "6L-nhETPAfY            0            0\n",
       "TYR_7CeO39E            0            0"
      ]
     },
     "execution_count": 132,
     "metadata": {},
     "output_type": "execute_result"
    }
   ],
   "source": [
    "results = pd.DataFrame({\n",
    "    'predictions':model.predict(X_test_tfidf),\n",
    "    'true_values':y_test\n",
    "})\n",
    "results.head()"
   ]
  },
  {
   "cell_type": "code",
   "execution_count": 60,
   "id": "f1797c3d-13df-4649-bc47-164429b97c91",
   "metadata": {},
   "outputs": [
    {
     "data": {
      "text/plain": [
       "0.9801055426658275"
      ]
     },
     "execution_count": 60,
     "metadata": {},
     "output_type": "execute_result"
    }
   ],
   "source": [
    "y_train_pred = model.predict(X_train_tfidf)\n",
    "\n",
    "accuracy_score(y_train, y_train_pred)"
   ]
  },
  {
   "cell_type": "code",
   "execution_count": 61,
   "id": "66d72aff-f24e-4ee6-a0bd-a7e7d94565b8",
   "metadata": {},
   "outputs": [
    {
     "data": {
      "text/plain": [
       "0.9793198221348289"
      ]
     },
     "execution_count": 61,
     "metadata": {},
     "output_type": "execute_result"
    }
   ],
   "source": [
    "# testing accuracy\n",
    "y_test_pred = model.predict(X_test_tfidf)\n",
    "\n",
    "accuracy_score(y_test, y_test_pred)"
   ]
  },
  {
   "cell_type": "code",
   "execution_count": null,
   "id": "dfaeda97-0c2b-4378-95dc-b8dd3bf7d2bd",
   "metadata": {},
   "outputs": [],
   "source": []
  },
  {
   "cell_type": "code",
   "execution_count": 67,
   "id": "a15df9a8-daa5-49d6-9b36-47da4fac92c6",
   "metadata": {},
   "outputs": [],
   "source": [
    "results.reset_index (inplace= True)"
   ]
  },
  {
   "cell_type": "code",
   "execution_count": 113,
   "id": "48951a3e-3567-484b-9fb5-cb0f7cb445b5",
   "metadata": {},
   "outputs": [],
   "source": [
    "#calculate the perc of spam per video_id\n",
    "def spam_comments_per_videoid(videoid):\n",
    "    \n",
    "    r1 = results.loc[results[\"video_id\"] == videoid, :].count()\n",
    "    r2 = results.loc[results[\"video_id\"] == videoid, :].sum()\n",
    "    perc = r2.true_values/r1.true_values\n",
    "    \n",
    "    return perc"
   ]
  },
  {
   "cell_type": "code",
   "execution_count": 114,
   "id": "eea1e60b-9e3a-4120-8c35-ec1fc5e48c83",
   "metadata": {},
   "outputs": [],
   "source": [
    "videoid = \"zyPIdeF4NFI\"\n",
    "videos = []\n",
    "for i in (results[\"video_id\"]):\n",
    "    if i == videoid:\n",
    "        videos = results.loc[results[\"video_id\"] == videoid, :]\n",
    "#videos      "
   ]
  },
  {
   "cell_type": "code",
   "execution_count": 115,
   "id": "a7a50d6e-513d-4598-b96e-bae13c88390f",
   "metadata": {},
   "outputs": [
    {
     "data": {
      "text/plain": [
       "0.08771929824561403"
      ]
     },
     "execution_count": 115,
     "metadata": {},
     "output_type": "execute_result"
    }
   ],
   "source": [
    "spam_comments_per_videoid(\"zyPIdeF4NFI\")"
   ]
  },
  {
   "cell_type": "code",
   "execution_count": 157,
   "id": "c1e9f295-e2d4-4242-9e89-2a093b7a9106",
   "metadata": {},
   "outputs": [],
   "source": [
    "to_plot = results.groupby(\"video_id\").size().reset_index(name=\"video_count\")\n",
    "to_plot_1 = results.groupby(\"video_id\").agg({'predictions': 'sum'})"
   ]
  },
  {
   "cell_type": "code",
   "execution_count": 136,
   "id": "bb05269c-995e-418d-879f-37e7f5b1f30c",
   "metadata": {},
   "outputs": [],
   "source": [
    "df = pd.merge(to_plot, to_plot_1, on = \"video_id\")"
   ]
  },
  {
   "cell_type": "code",
   "execution_count": 179,
   "id": "773ff967-73c3-4750-b491-3a0eea579863",
   "metadata": {},
   "outputs": [
    {
     "data": {
      "text/html": [
       "<div>\n",
       "<style scoped>\n",
       "    .dataframe tbody tr th:only-of-type {\n",
       "        vertical-align: middle;\n",
       "    }\n",
       "\n",
       "    .dataframe tbody tr th {\n",
       "        vertical-align: top;\n",
       "    }\n",
       "\n",
       "    .dataframe thead th {\n",
       "        text-align: right;\n",
       "    }\n",
       "</style>\n",
       "<table border=\"1\" class=\"dataframe\">\n",
       "  <thead>\n",
       "    <tr style=\"text-align: right;\">\n",
       "      <th></th>\n",
       "      <th>video_id</th>\n",
       "      <th>video_count</th>\n",
       "      <th>predictions</th>\n",
       "      <th>perc</th>\n",
       "    </tr>\n",
       "  </thead>\n",
       "  <tbody>\n",
       "    <tr>\n",
       "      <th>1262</th>\n",
       "      <td>jt2OHQh0HoQ</td>\n",
       "      <td>98</td>\n",
       "      <td>16</td>\n",
       "      <td>0.163265</td>\n",
       "    </tr>\n",
       "    <tr>\n",
       "      <th>432</th>\n",
       "      <td>GO6qs83CHpc</td>\n",
       "      <td>136</td>\n",
       "      <td>12</td>\n",
       "      <td>0.088235</td>\n",
       "    </tr>\n",
       "    <tr>\n",
       "      <th>1438</th>\n",
       "      <td>r9-DM9uBtVI</td>\n",
       "      <td>249</td>\n",
       "      <td>11</td>\n",
       "      <td>0.044177</td>\n",
       "    </tr>\n",
       "    <tr>\n",
       "      <th>1550</th>\n",
       "      <td>vQ3XgMKAgxc</td>\n",
       "      <td>205</td>\n",
       "      <td>8</td>\n",
       "      <td>0.039024</td>\n",
       "    </tr>\n",
       "    <tr>\n",
       "      <th>1474</th>\n",
       "      <td>scIizw2asro</td>\n",
       "      <td>191</td>\n",
       "      <td>6</td>\n",
       "      <td>0.031414</td>\n",
       "    </tr>\n",
       "    <tr>\n",
       "      <th>...</th>\n",
       "      <td>...</td>\n",
       "      <td>...</td>\n",
       "      <td>...</td>\n",
       "      <td>...</td>\n",
       "    </tr>\n",
       "    <tr>\n",
       "      <th>646</th>\n",
       "      <td>OctiAjHyn_o</td>\n",
       "      <td>56</td>\n",
       "      <td>0</td>\n",
       "      <td>0.000000</td>\n",
       "    </tr>\n",
       "    <tr>\n",
       "      <th>643</th>\n",
       "      <td>OWcF-AttnBU</td>\n",
       "      <td>16</td>\n",
       "      <td>0</td>\n",
       "      <td>0.000000</td>\n",
       "    </tr>\n",
       "    <tr>\n",
       "      <th>642</th>\n",
       "      <td>OOwfl8yY7nc</td>\n",
       "      <td>192</td>\n",
       "      <td>0</td>\n",
       "      <td>0.000000</td>\n",
       "    </tr>\n",
       "    <tr>\n",
       "      <th>640</th>\n",
       "      <td>OMW_dPtm7Bo</td>\n",
       "      <td>82</td>\n",
       "      <td>0</td>\n",
       "      <td>0.000000</td>\n",
       "    </tr>\n",
       "    <tr>\n",
       "      <th>1672</th>\n",
       "      <td>zyPIdeF4NFI</td>\n",
       "      <td>57</td>\n",
       "      <td>0</td>\n",
       "      <td>0.000000</td>\n",
       "    </tr>\n",
       "  </tbody>\n",
       "</table>\n",
       "<p>1673 rows × 4 columns</p>\n",
       "</div>"
      ],
      "text/plain": [
       "         video_id  video_count  predictions      perc\n",
       "1262  jt2OHQh0HoQ           98           16  0.163265\n",
       "432   GO6qs83CHpc          136           12  0.088235\n",
       "1438  r9-DM9uBtVI          249           11  0.044177\n",
       "1550  vQ3XgMKAgxc          205            8  0.039024\n",
       "1474  scIizw2asro          191            6  0.031414\n",
       "...           ...          ...          ...       ...\n",
       "646   OctiAjHyn_o           56            0  0.000000\n",
       "643   OWcF-AttnBU           16            0  0.000000\n",
       "642   OOwfl8yY7nc          192            0  0.000000\n",
       "640   OMW_dPtm7Bo           82            0  0.000000\n",
       "1672  zyPIdeF4NFI           57            0  0.000000\n",
       "\n",
       "[1673 rows x 4 columns]"
      ]
     },
     "execution_count": 179,
     "metadata": {},
     "output_type": "execute_result"
    }
   ],
   "source": [
    "df[\"perc\"] = df[\"predictions\"]/ df[\"video_count\"]\n",
    "df.to_csv(\"spam_perc_by_videoid.csv\")\n",
    "df.sort_values(by = \"predictions\", ascending = False)  "
   ]
  },
  {
   "cell_type": "code",
   "execution_count": 173,
   "id": "3fdda412-c355-4e11-a328-5ae5206526c8",
   "metadata": {},
   "outputs": [],
   "source": [
    "def perc_spam_comments_per_videoid(videoid):\n",
    "    \n",
    "    r1 = df.loc[df[\"video_id\"] == videoid, :]\n",
    "    r1.plot.bar()\n",
    "    return r1"
   ]
  },
  {
   "cell_type": "code",
   "execution_count": 180,
   "id": "a7031168-a3d7-419d-9d5f-49cfadd41f61",
   "metadata": {},
   "outputs": [
    {
     "data": {
      "text/html": [
       "<div>\n",
       "<style scoped>\n",
       "    .dataframe tbody tr th:only-of-type {\n",
       "        vertical-align: middle;\n",
       "    }\n",
       "\n",
       "    .dataframe tbody tr th {\n",
       "        vertical-align: top;\n",
       "    }\n",
       "\n",
       "    .dataframe thead th {\n",
       "        text-align: right;\n",
       "    }\n",
       "</style>\n",
       "<table border=\"1\" class=\"dataframe\">\n",
       "  <thead>\n",
       "    <tr style=\"text-align: right;\">\n",
       "      <th></th>\n",
       "      <th>video_id</th>\n",
       "      <th>video_count</th>\n",
       "      <th>predictions</th>\n",
       "      <th>perc</th>\n",
       "    </tr>\n",
       "  </thead>\n",
       "  <tbody>\n",
       "    <tr>\n",
       "      <th>1262</th>\n",
       "      <td>jt2OHQh0HoQ</td>\n",
       "      <td>98</td>\n",
       "      <td>16</td>\n",
       "      <td>0.163265</td>\n",
       "    </tr>\n",
       "  </tbody>\n",
       "</table>\n",
       "</div>"
      ],
      "text/plain": [
       "         video_id  video_count  predictions      perc\n",
       "1262  jt2OHQh0HoQ           98           16  0.163265"
      ]
     },
     "execution_count": 180,
     "metadata": {},
     "output_type": "execute_result"
    },
    {
     "data": {
      "image/png": "[encoded data removed]",
      "text/plain": [
       "<Figure size 432x288 with 1 Axes>"
      ]
     },
     "metadata": {
      "needs_background": "light"
     },
     "output_type": "display_data"
    }
   ],
   "source": [
    "perc_spam_comments_per_videoid(\"jt2OHQh0HoQ\")"
   ]
  },
  {
   "cell_type": "code",
   "execution_count": null,
   "id": "abb18ed3-c822-4eac-b777-f6c967303fb9",
   "metadata": {},
   "outputs": [],
   "source": []
  }
 ],
 "metadata": {
  "kernelspec": {
   "display_name": "Python 3 (ipykernel)",
   "language": "python",
   "name": "python3"
  },
  "language_info": {
   "codemirror_mode": {
    "name": "ipython",
    "version": 3
   },
   "file_extension": ".py",
   "mimetype": "text/x-python",
   "name": "python",
   "nbconvert_exporter": "python",
   "pygments_lexer": "ipython3",
   "version": "3.9.7"
  }
 },
 "nbformat": 4,
 "nbformat_minor": 5
}
