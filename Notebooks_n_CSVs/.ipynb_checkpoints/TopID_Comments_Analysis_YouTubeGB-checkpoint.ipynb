{
 "cells": [
  {
   "cell_type": "code",
   "execution_count": 1,
   "id": "0fa98a60-e935-4d31-8e06-0c18e2ec94c4",
   "metadata": {},
   "outputs": [],
   "source": [
    "#!pip install nltk"
   ]
  },
  {
   "cell_type": "code",
   "execution_count": 2,
   "id": "28353b33-ae9d-4f40-a1f6-1f4f77729cb1",
   "metadata": {},
   "outputs": [],
   "source": [
    "import pandas as pd\n",
    "import numpy as np\n",
    "import matplotlib.pyplot as plt\n",
    "import seaborn as sns\n",
    "\n",
    "#nltk.download('averaged_perceptron_tagger')\n",
    "#nltk.download('words')\n",
    "#nltk.download('maxent_ne_chunker')\n",
    "#plt.style.use('ggplot')\n",
    "import nltk\n",
    "import pickle\n",
    "from wordcloud import WordCloud\n",
    "import matplotlib.pyplot as plt"
   ]
  },
  {
   "cell_type": "code",
   "execution_count": 3,
   "id": "693a75aa-48bb-4c5f-8be4-da928cfc3793",
   "metadata": {
    "tags": []
   },
   "outputs": [
    {
     "data": {
      "text/html": [
       "<div>\n",
       "<style scoped>\n",
       "    .dataframe tbody tr th:only-of-type {\n",
       "        vertical-align: middle;\n",
       "    }\n",
       "\n",
       "    .dataframe tbody tr th {\n",
       "        vertical-align: top;\n",
       "    }\n",
       "\n",
       "    .dataframe thead th {\n",
       "        text-align: right;\n",
       "    }\n",
       "</style>\n",
       "<table border=\"1\" class=\"dataframe\">\n",
       "  <thead>\n",
       "    <tr style=\"text-align: right;\">\n",
       "      <th></th>\n",
       "      <th>video_id</th>\n",
       "      <th>label</th>\n",
       "      <th>clean_comment</th>\n",
       "      <th>Label</th>\n",
       "    </tr>\n",
       "  </thead>\n",
       "  <tbody>\n",
       "    <tr>\n",
       "      <th>0</th>\n",
       "      <td>jt2OHQh0HoQ</td>\n",
       "      <td>False</td>\n",
       "      <td>it s more accurate to call it the m 1000 becau...</td>\n",
       "      <td>0</td>\n",
       "    </tr>\n",
       "    <tr>\n",
       "      <th>1</th>\n",
       "      <td>jt2OHQh0HoQ</td>\n",
       "      <td>False</td>\n",
       "      <td>to be there with a samsung phone n</td>\n",
       "      <td>0</td>\n",
       "    </tr>\n",
       "    <tr>\n",
       "      <th>2</th>\n",
       "      <td>jt2OHQh0HoQ</td>\n",
       "      <td>False</td>\n",
       "      <td>thank gosh a place i can watch it without havi...</td>\n",
       "      <td>0</td>\n",
       "    </tr>\n",
       "    <tr>\n",
       "      <th>3</th>\n",
       "      <td>jt2OHQh0HoQ</td>\n",
       "      <td>False</td>\n",
       "      <td>what happened to the home button on the iphone...</td>\n",
       "      <td>0</td>\n",
       "    </tr>\n",
       "    <tr>\n",
       "      <th>4</th>\n",
       "      <td>jt2OHQh0HoQ</td>\n",
       "      <td>False</td>\n",
       "      <td>power is the disease care is the cure keep car...</td>\n",
       "      <td>0</td>\n",
       "    </tr>\n",
       "    <tr>\n",
       "      <th>...</th>\n",
       "      <td>...</td>\n",
       "      <td>...</td>\n",
       "      <td>...</td>\n",
       "      <td>...</td>\n",
       "    </tr>\n",
       "    <tr>\n",
       "      <th>358019</th>\n",
       "      <td>lLN1FwiqGwc</td>\n",
       "      <td>False</td>\n",
       "      <td>gasp n gasp n gasp</td>\n",
       "      <td>0</td>\n",
       "    </tr>\n",
       "    <tr>\n",
       "      <th>358020</th>\n",
       "      <td>lLN1FwiqGwc</td>\n",
       "      <td>False</td>\n",
       "      <td>yeah but does everybody float</td>\n",
       "      <td>0</td>\n",
       "    </tr>\n",
       "    <tr>\n",
       "      <th>358021</th>\n",
       "      <td>lLN1FwiqGwc</td>\n",
       "      <td>False</td>\n",
       "      <td>that meme me d ace</td>\n",
       "      <td>0</td>\n",
       "    </tr>\n",
       "    <tr>\n",
       "      <th>358022</th>\n",
       "      <td>lLN1FwiqGwc</td>\n",
       "      <td>False</td>\n",
       "      <td>10 43 is that miles ups hur</td>\n",
       "      <td>0</td>\n",
       "    </tr>\n",
       "    <tr>\n",
       "      <th>358023</th>\n",
       "      <td>lLN1FwiqGwc</td>\n",
       "      <td>False</td>\n",
       "      <td>wa ha nwa ha nwa ha</td>\n",
       "      <td>0</td>\n",
       "    </tr>\n",
       "  </tbody>\n",
       "</table>\n",
       "<p>358024 rows × 4 columns</p>\n",
       "</div>"
      ],
      "text/plain": [
       "           video_id  label                                      clean_comment  \\\n",
       "0       jt2OHQh0HoQ  False  it s more accurate to call it the m 1000 becau...   \n",
       "1       jt2OHQh0HoQ  False                 to be there with a samsung phone n   \n",
       "2       jt2OHQh0HoQ  False  thank gosh a place i can watch it without havi...   \n",
       "3       jt2OHQh0HoQ  False  what happened to the home button on the iphone...   \n",
       "4       jt2OHQh0HoQ  False  power is the disease care is the cure keep car...   \n",
       "...             ...    ...                                                ...   \n",
       "358019  lLN1FwiqGwc  False                                 gasp n gasp n gasp   \n",
       "358020  lLN1FwiqGwc  False                      yeah but does everybody float   \n",
       "358021  lLN1FwiqGwc  False                                 that meme me d ace   \n",
       "358022  lLN1FwiqGwc  False                        10 43 is that miles ups hur   \n",
       "358023  lLN1FwiqGwc  False                                wa ha nwa ha nwa ha   \n",
       "\n",
       "        Label  \n",
       "0           0  \n",
       "1           0  \n",
       "2           0  \n",
       "3           0  \n",
       "4           0  \n",
       "...       ...  \n",
       "358019      0  \n",
       "358020      0  \n",
       "358021      0  \n",
       "358022      0  \n",
       "358023      0  \n",
       "\n",
       "[358024 rows x 4 columns]"
      ]
     },
     "execution_count": 3,
     "metadata": {},
     "output_type": "execute_result"
    }
   ],
   "source": [
    "df = pd.read_csv('Cleaned_comments_witth Label.csv')\n",
    "\n",
    "df"
   ]
  },
  {
   "cell_type": "code",
   "execution_count": 4,
   "id": "809f0c62-7f80-4b5e-b20e-6ac75ddee672",
   "metadata": {},
   "outputs": [
    {
     "name": "stdout",
     "output_type": "stream",
     "text": [
      "<class 'pandas.core.frame.DataFrame'>\n",
      "RangeIndex: 718453 entries, 0 to 718452\n",
      "Data columns (total 9 columns):\n",
      " #   Column             Non-Null Count   Dtype  \n",
      "---  ------             --------------   -----  \n",
      " 0   video_id           718453 non-null  object \n",
      " 1   comment_text       718453 non-null  object \n",
      " 2   likes              718453 non-null  int64  \n",
      " 3   replies            718453 non-null  int64  \n",
      " 4   negative_comments  718453 non-null  float64\n",
      " 5   neutral_comments   718453 non-null  float64\n",
      " 6   positive_comments  718453 non-null  float64\n",
      " 7   compound_comments  718453 non-null  float64\n",
      " 8   Analysis_comments  718453 non-null  object \n",
      "dtypes: float64(4), int64(2), object(3)\n",
      "memory usage: 49.3+ MB\n"
     ]
    }
   ],
   "source": [
    "#df.sort_values(by = 'likes',ascending =False).head(10)\n",
    "df_like_dislikes= pd.read_csv('Centimental_Analysis_YouTubeGB_results.csv')\n",
    "\n",
    "# df_like_dislikes = df_like_dislikes[['likes', 'replies', 'Analysis_comments']]\n",
    "# df_like_dislikes#.reset_index(inplace=True)\n",
    "# df_like_dislikes= df_like_dislikes.rename(columns = {'index':'video_id'})\n",
    "df_like_dislikes.info()"
   ]
  },
  {
   "cell_type": "code",
   "execution_count": 5,
   "id": "9fd4eaa3-8f31-4316-bec9-13d99923ddba",
   "metadata": {},
   "outputs": [],
   "source": [
    "df=pd.merge(df,df_like_dislikes)"
   ]
  },
  {
   "cell_type": "code",
   "execution_count": 6,
   "id": "b5ddc55d-2876-4466-a466-345972e09e8f",
   "metadata": {},
   "outputs": [
    {
     "data": {
      "text/html": [
       "<div>\n",
       "<style scoped>\n",
       "    .dataframe tbody tr th:only-of-type {\n",
       "        vertical-align: middle;\n",
       "    }\n",
       "\n",
       "    .dataframe tbody tr th {\n",
       "        vertical-align: top;\n",
       "    }\n",
       "\n",
       "    .dataframe thead th {\n",
       "        text-align: right;\n",
       "    }\n",
       "</style>\n",
       "<table border=\"1\" class=\"dataframe\">\n",
       "  <thead>\n",
       "    <tr style=\"text-align: right;\">\n",
       "      <th></th>\n",
       "      <th>video_id</th>\n",
       "      <th>label</th>\n",
       "      <th>clean_comment</th>\n",
       "      <th>likes</th>\n",
       "      <th>replies</th>\n",
       "      <th>Analysis_comments</th>\n",
       "    </tr>\n",
       "  </thead>\n",
       "  <tbody>\n",
       "    <tr>\n",
       "      <th>0</th>\n",
       "      <td>jt2OHQh0HoQ</td>\n",
       "      <td>False</td>\n",
       "      <td>it s more accurate to call it the m 1000 becau...</td>\n",
       "      <td>0</td>\n",
       "      <td>0</td>\n",
       "      <td>Negative</td>\n",
       "    </tr>\n",
       "    <tr>\n",
       "      <th>1</th>\n",
       "      <td>jt2OHQh0HoQ</td>\n",
       "      <td>False</td>\n",
       "      <td>it s more accurate to call it the m 1000 becau...</td>\n",
       "      <td>1</td>\n",
       "      <td>0</td>\n",
       "      <td>Negative</td>\n",
       "    </tr>\n",
       "    <tr>\n",
       "      <th>2</th>\n",
       "      <td>jt2OHQh0HoQ</td>\n",
       "      <td>False</td>\n",
       "      <td>it s more accurate to call it the m 1000 becau...</td>\n",
       "      <td>0</td>\n",
       "      <td>0</td>\n",
       "      <td>Negative</td>\n",
       "    </tr>\n",
       "    <tr>\n",
       "      <th>3</th>\n",
       "      <td>jt2OHQh0HoQ</td>\n",
       "      <td>False</td>\n",
       "      <td>it s more accurate to call it the m 1000 becau...</td>\n",
       "      <td>0</td>\n",
       "      <td>0</td>\n",
       "      <td>Negative</td>\n",
       "    </tr>\n",
       "    <tr>\n",
       "      <th>4</th>\n",
       "      <td>jt2OHQh0HoQ</td>\n",
       "      <td>False</td>\n",
       "      <td>it s more accurate to call it the m 1000 becau...</td>\n",
       "      <td>0</td>\n",
       "      <td>0</td>\n",
       "      <td>Negative</td>\n",
       "    </tr>\n",
       "    <tr>\n",
       "      <th>...</th>\n",
       "      <td>...</td>\n",
       "      <td>...</td>\n",
       "      <td>...</td>\n",
       "      <td>...</td>\n",
       "      <td>...</td>\n",
       "      <td>...</td>\n",
       "    </tr>\n",
       "    <tr>\n",
       "      <th>200715541</th>\n",
       "      <td>XQFeShp6UIY</td>\n",
       "      <td>False</td>\n",
       "      <td>so using mechanics built into the raid is chea...</td>\n",
       "      <td>2</td>\n",
       "      <td>2</td>\n",
       "      <td>Negative</td>\n",
       "    </tr>\n",
       "    <tr>\n",
       "      <th>200715542</th>\n",
       "      <td>XQFeShp6UIY</td>\n",
       "      <td>False</td>\n",
       "      <td>so using mechanics built into the raid is chea...</td>\n",
       "      <td>3</td>\n",
       "      <td>4</td>\n",
       "      <td>Negative</td>\n",
       "    </tr>\n",
       "    <tr>\n",
       "      <th>200715543</th>\n",
       "      <td>XQFeShp6UIY</td>\n",
       "      <td>False</td>\n",
       "      <td>so using mechanics built into the raid is chea...</td>\n",
       "      <td>1</td>\n",
       "      <td>3</td>\n",
       "      <td>Negative</td>\n",
       "    </tr>\n",
       "    <tr>\n",
       "      <th>200715544</th>\n",
       "      <td>XQFeShp6UIY</td>\n",
       "      <td>False</td>\n",
       "      <td>so using mechanics built into the raid is chea...</td>\n",
       "      <td>0</td>\n",
       "      <td>2</td>\n",
       "      <td>Negative</td>\n",
       "    </tr>\n",
       "    <tr>\n",
       "      <th>200715545</th>\n",
       "      <td>XQFeShp6UIY</td>\n",
       "      <td>False</td>\n",
       "      <td>so using mechanics built into the raid is chea...</td>\n",
       "      <td>0</td>\n",
       "      <td>1</td>\n",
       "      <td>Negative</td>\n",
       "    </tr>\n",
       "  </tbody>\n",
       "</table>\n",
       "<p>200715546 rows × 6 columns</p>\n",
       "</div>"
      ],
      "text/plain": [
       "              video_id  label  \\\n",
       "0          jt2OHQh0HoQ  False   \n",
       "1          jt2OHQh0HoQ  False   \n",
       "2          jt2OHQh0HoQ  False   \n",
       "3          jt2OHQh0HoQ  False   \n",
       "4          jt2OHQh0HoQ  False   \n",
       "...                ...    ...   \n",
       "200715541  XQFeShp6UIY  False   \n",
       "200715542  XQFeShp6UIY  False   \n",
       "200715543  XQFeShp6UIY  False   \n",
       "200715544  XQFeShp6UIY  False   \n",
       "200715545  XQFeShp6UIY  False   \n",
       "\n",
       "                                               clean_comment  likes  replies  \\\n",
       "0          it s more accurate to call it the m 1000 becau...      0        0   \n",
       "1          it s more accurate to call it the m 1000 becau...      1        0   \n",
       "2          it s more accurate to call it the m 1000 becau...      0        0   \n",
       "3          it s more accurate to call it the m 1000 becau...      0        0   \n",
       "4          it s more accurate to call it the m 1000 becau...      0        0   \n",
       "...                                                      ...    ...      ...   \n",
       "200715541  so using mechanics built into the raid is chea...      2        2   \n",
       "200715542  so using mechanics built into the raid is chea...      3        4   \n",
       "200715543  so using mechanics built into the raid is chea...      1        3   \n",
       "200715544  so using mechanics built into the raid is chea...      0        2   \n",
       "200715545  so using mechanics built into the raid is chea...      0        1   \n",
       "\n",
       "          Analysis_comments  \n",
       "0                  Negative  \n",
       "1                  Negative  \n",
       "2                  Negative  \n",
       "3                  Negative  \n",
       "4                  Negative  \n",
       "...                     ...  \n",
       "200715541          Negative  \n",
       "200715542          Negative  \n",
       "200715543          Negative  \n",
       "200715544          Negative  \n",
       "200715545          Negative  \n",
       "\n",
       "[200715546 rows x 6 columns]"
      ]
     },
     "execution_count": 6,
     "metadata": {},
     "output_type": "execute_result"
    }
   ],
   "source": [
    "df=df[['video_id','label','clean_comment','likes','replies','Analysis_comments']]\n",
    "df"
   ]
  },
  {
   "cell_type": "code",
   "execution_count": 7,
   "id": "539e7969-2d44-4efc-beb5-7f27c5a466f1",
   "metadata": {},
   "outputs": [
    {
     "name": "stdout",
     "output_type": "stream",
     "text": [
      "<class 'pandas.core.frame.DataFrame'>\n",
      "Int64Index: 200715546 entries, 0 to 200715545\n",
      "Data columns (total 6 columns):\n",
      " #   Column             Dtype \n",
      "---  ------             ----- \n",
      " 0   video_id           object\n",
      " 1   label              bool  \n",
      " 2   clean_comment      object\n",
      " 3   likes              int64 \n",
      " 4   replies            int64 \n",
      " 5   Analysis_comments  object\n",
      "dtypes: bool(1), int64(2), object(3)\n",
      "memory usage: 9.2+ GB\n"
     ]
    }
   ],
   "source": [
    "df.info() # have a look at the whole dataset"
   ]
  },
  {
   "cell_type": "code",
   "execution_count": 8,
   "id": "261b10ef-9390-406b-9ac8-231bb30334ce",
   "metadata": {},
   "outputs": [],
   "source": [
    "#df.groupby('video_id')['clean_comment'].count().sort_values(ascending=False) # finding the top 1 video id has the most comments"
   ]
  },
  {
   "cell_type": "raw",
   "id": "7c790504-edcb-43be-8bdd-06cf6ecd1abd",
   "metadata": {},
   "source": [
    "we found the the top1 video id has a strange idname:#NAME? It seems like this video id is too sensiable to be shown. that's how i assume it. so , we leave it like this. "
   ]
  },
  {
   "cell_type": "code",
   "execution_count": 9,
   "id": "b60a8ef7-ecd7-47e7-bf12-8106a9353053",
   "metadata": {},
   "outputs": [
    {
     "data": {
      "text/html": [
       "<div>\n",
       "<style scoped>\n",
       "    .dataframe tbody tr th:only-of-type {\n",
       "        vertical-align: middle;\n",
       "    }\n",
       "\n",
       "    .dataframe tbody tr th {\n",
       "        vertical-align: top;\n",
       "    }\n",
       "\n",
       "    .dataframe thead th {\n",
       "        text-align: right;\n",
       "    }\n",
       "</style>\n",
       "<table border=\"1\" class=\"dataframe\">\n",
       "  <thead>\n",
       "    <tr style=\"text-align: right;\">\n",
       "      <th></th>\n",
       "      <th>video_id</th>\n",
       "      <th>label</th>\n",
       "      <th>clean_comment</th>\n",
       "      <th>likes</th>\n",
       "      <th>replies</th>\n",
       "      <th>Analysis_comments</th>\n",
       "    </tr>\n",
       "  </thead>\n",
       "  <tbody>\n",
       "    <tr>\n",
       "      <th>173904334</th>\n",
       "      <td>uK4plxfJa10</td>\n",
       "      <td>False</td>\n",
       "      <td>already searching a excuse because he is scare...</td>\n",
       "      <td>0</td>\n",
       "      <td>0</td>\n",
       "      <td>Negative</td>\n",
       "    </tr>\n",
       "    <tr>\n",
       "      <th>173904335</th>\n",
       "      <td>uK4plxfJa10</td>\n",
       "      <td>False</td>\n",
       "      <td>already searching a excuse because he is scare...</td>\n",
       "      <td>0</td>\n",
       "      <td>0</td>\n",
       "      <td>Negative</td>\n",
       "    </tr>\n",
       "  </tbody>\n",
       "</table>\n",
       "</div>"
      ],
      "text/plain": [
       "              video_id  label  \\\n",
       "173904334  uK4plxfJa10  False   \n",
       "173904335  uK4plxfJa10  False   \n",
       "\n",
       "                                               clean_comment  likes  replies  \\\n",
       "173904334  already searching a excuse because he is scare...      0        0   \n",
       "173904335  already searching a excuse because he is scare...      0        0   \n",
       "\n",
       "          Analysis_comments  \n",
       "173904334          Negative  \n",
       "173904335          Negative  "
      ]
     },
     "execution_count": 9,
     "metadata": {},
     "output_type": "execute_result"
    }
   ],
   "source": [
    "df.query('video_id == \"uK4plxfJa10\"').head(2) "
   ]
  },
  {
   "cell_type": "code",
   "execution_count": 10,
   "id": "81cbbc7a-ac84-4fac-820f-7284fbeb9a97",
   "metadata": {},
   "outputs": [],
   "source": [
    "df['clean_comment'].fillna('none',inplace=True) # Filling missing value that we can proceed further without issues.\n"
   ]
  },
  {
   "cell_type": "code",
   "execution_count": null,
   "id": "4223669f-708b-4286-b5cf-1dd76614974f",
   "metadata": {},
   "outputs": [],
   "source": []
  },
  {
   "cell_type": "code",
   "execution_count": 11,
   "id": "4dd434c6-a310-4af3-b6a7-6053055c280e",
   "metadata": {},
   "outputs": [
    {
     "data": {
      "text/plain": [
       "0"
      ]
     },
     "execution_count": 11,
     "metadata": {},
     "output_type": "execute_result"
    }
   ],
   "source": [
    "df.clean_comment.isnull().sum()"
   ]
  },
  {
   "cell_type": "markdown",
   "id": "bac652d0-6f95-4192-8b1f-53a764a7c83d",
   "metadata": {},
   "source": [
    "# Comments annalysis on Top1 videoId "
   ]
  },
  {
   "cell_type": "markdown",
   "id": "a4d878d9-47ff-4e87-b8a6-9a1f01e7d540",
   "metadata": {},
   "source": [
    "# Sentiment Analysis\n",
    "## Step 1. VADER Setiment Scoring, we will use SentimentIntensityAnalyzer\n",
    "\n",
    "    this uses a \"bag of words\"approach\n",
    "    1.stop words are removed \n",
    "    2. each word is scored and combined to a total score."
   ]
  },
  {
   "cell_type": "code",
   "execution_count": 12,
   "id": "5449f84a-fb45-4b37-b43d-2e1f2d26dd9a",
   "metadata": {},
   "outputs": [
    {
     "name": "stderr",
     "output_type": "stream",
     "text": [
      "[nltk_data] Downloading package vader_lexicon to\n",
      "[nltk_data]     /Users/weiling.p/nltk_data...\n",
      "[nltk_data]   Package vader_lexicon is already up-to-date!\n"
     ]
    }
   ],
   "source": [
    "from nltk.sentiment import SentimentIntensityAnalyzer\n",
    "from tqdm.notebook import tqdm\n",
    "\n",
    "nltk.download('vader_lexicon')\n",
    "sia = SentimentIntensityAnalyzer()"
   ]
  },
  {
   "cell_type": "code",
   "execution_count": 13,
   "id": "731c9304-4d18-43b1-a135-eb114a499bed",
   "metadata": {},
   "outputs": [
    {
     "data": {
      "text/plain": [
       "b'0            it s more accurate to call it the m 1000 becau...\\n1            it s more accurate to call it the m 1000 becau...\\n2            it s more accurate to call it the m 1000 becau...\\n3            it s more accurate to call it the m 1000 becau...\\n4            it s more accurate to call it the m 1000 becau...\\n                                   ...                        \\n200715541    so using mechanics built into the raid is chea...\\n200715542    so using mechanics built into the raid is chea...\\n200715543    so using mechanics built into the raid is chea...\\n200715544    so using mechanics built into the raid is chea...\\n200715545    so using mechanics built into the raid is chea...\\nName: clean_comment, Length: 200715546, dtype: object'"
      ]
     },
     "execution_count": 13,
     "metadata": {},
     "output_type": "execute_result"
    }
   ],
   "source": [
    "str(df['clean_comment']).encode('utf-8')"
   ]
  },
  {
   "cell_type": "code",
   "execution_count": 14,
   "id": "5214c8be-48c7-4a11-a142-55391b042c3d",
   "metadata": {},
   "outputs": [
    {
     "name": "stdout",
     "output_type": "stream",
     "text": [
      "<class 'pandas.core.frame.DataFrame'>\n",
      "Int64Index: 200715546 entries, 0 to 200715545\n",
      "Data columns (total 6 columns):\n",
      " #   Column             Dtype \n",
      "---  ------             ----- \n",
      " 0   video_id           object\n",
      " 1   label              bool  \n",
      " 2   clean_comment      object\n",
      " 3   likes              int64 \n",
      " 4   replies            int64 \n",
      " 5   Analysis_comments  object\n",
      "dtypes: bool(1), int64(2), object(3)\n",
      "memory usage: 9.2+ GB\n"
     ]
    }
   ],
   "source": [
    "df.info()"
   ]
  },
  {
   "cell_type": "markdown",
   "id": "43f35830-0220-4114-81a4-34ad81c696b6",
   "metadata": {},
   "source": [
    "# run the polarity score to the entire df "
   ]
  },
  {
   "cell_type": "code",
   "execution_count": null,
   "id": "7ba3e2f3-1bf3-4c24-9dbc-f65564af08ed",
   "metadata": {},
   "outputs": [
    {
     "data": {
      "application/vnd.jupyter.widget-view+json": {
       "model_id": "282bb4539eb94a0c971acf23d417a92e",
       "version_major": 2,
       "version_minor": 0
      },
      "text/plain": [
       "  0%|          | 0/200715546 [00:00<?, ?it/s]"
      ]
     },
     "metadata": {},
     "output_type": "display_data"
    }
   ],
   "source": [
    "result = {}\n",
    "for i,row in tqdm(df.iterrows(),total=len(df)):\n",
    "    text = row['clean_comment']\n",
    "    video_id = row['video_id']\n",
    "    result[video_id]=sia.polarity_scores(text)\n",
    "    \n",
    "result = pd.DataFrame(result)\n",
    "result = result.T\n",
    "score = result.compound\n",
    "\n",
    "def getAnalysis(score):\n",
    "    if score < 0:\n",
    "        return \"Negative\"\n",
    "    elif score == 0:\n",
    "        return \"Neutral\"\n",
    "    else:\n",
    "        return \"Positive\"\n",
    "result['Analysis_comments']= result['compound'].apply(getAnalysis)"
   ]
  },
  {
   "cell_type": "code",
   "execution_count": null,
   "id": "e3107442-fde5-489e-8d28-009f5de7c599",
   "metadata": {},
   "outputs": [],
   "source": [
    "result.reset_index(inplace=True)\n",
    "result.rename(columns = {'index':'video_id',\n",
    "                         'neg':'negative_comments',\n",
    "                         'neg':'negative_comments',\n",
    "                         'neu':'neutral_comments',\n",
    "                         'pos':'positive_comments',\n",
    "                         'compound':'compound_comments'}, inplace = True)\n",
    "df = pd.merge(df,result)\n",
    "df[['video_id','negative_comments', 'neutral_comments', 'positive_comments', 'compound_comments','Analysis_comments']].head(5)"
   ]
  },
  {
   "cell_type": "code",
   "execution_count": null,
   "id": "ae77ea7f-a8d9-4074-90e6-d226b3385ba0",
   "metadata": {},
   "outputs": [],
   "source": [
    "#df.to_csv('Centimental_Analysis_YouTubeGB_results.csv',index=False,encoding='utf-8')"
   ]
  },
  {
   "cell_type": "code",
   "execution_count": null,
   "id": "006c4a9d-9d63-4eb9-adbd-f474da98345c",
   "metadata": {
    "tags": []
   },
   "outputs": [],
   "source": [
    "#topid_name=df.query('video_id == \"#NAME?\"')\n",
    "topid=df.query('video_id== \"LunHybOKIjU\"')[['clean_comment','likes','replies','Analysis_comments']] # finding the top 1 video id has the most comments\n",
    "topid # now we have topid thathas most commnets and we can anaysis how his/her audiance feel about his videos."
   ]
  },
  {
   "cell_type": "code",
   "execution_count": null,
   "id": "0eb311cc-b78b-490c-b843-3a0a829188cf",
   "metadata": {},
   "outputs": [],
   "source": [
    "!pip install textblob"
   ]
  },
  {
   "cell_type": "code",
   "execution_count": null,
   "id": "9d0e48db-df2a-40ec-96f1-2f1b199a9fba",
   "metadata": {},
   "outputs": [],
   "source": [
    "import os\n",
    "import nltk\n",
    "import re\n",
    "import matplotlib.pyplot as plt\n",
    "plt.style.use('fivethirtyeight')\n"
   ]
  },
  {
   "cell_type": "code",
   "execution_count": null,
   "id": "c1652098-8213-47f2-a697-14343ea8654a",
   "metadata": {},
   "outputs": [],
   "source": [
    "topid.loc[:,'clean_comment'] = topid.loc[:,'clean_comment'].str.replace('\\!','',regex=True)\n",
    "topid.loc[:,'clean_comment'] = topid.loc[:,'clean_comment'].str.replace('\\-','',regex=True)\n",
    "topid.loc[:,'clean_comment'] = topid.loc[:,'clean_comment'].str.replace('\\|','',regex=True)\n",
    "topid.loc[:,'clean_comment'] = topid.loc[:,'clean_comment'].str.replace('https?:\\/\\/\\S+','',regex=True)\n",
    "topid.loc[:,'clean_comment'] = topid.loc[:,'clean_comment'].str.replace('\\\\','',regex=True)\n",
    "topid.loc[:,'clean_comment'] = topid.loc[:,'clean_comment'].str.replace('_____','',regex=True)\n",
    "topid.loc[:,'clean_comment'] = topid.loc[:,'clean_comment'].str.replace('__','',regex=True)\n",
    "\n",
    "# df.loc[:,'title'] = df.loc[:,'title'].str.replace('\\!','',regex=True)\n",
    "# df.loc[:,'title'] = df.loc[:,'title'].str.replace('\\-','',regex=True)\n",
    "# df.loc[:,'title'] = df.loc[:,'title'].str.replace('\\|','',regex=True)\n",
    "# df.loc[:,'title'] = df.loc[:,'title'].str.replace('#','',regex=True)\n",
    "# df.loc[:,'title'] = df.loc[:,'title'].str.replace('\\+',' ',regex=True)\n",
    "# df.loc[:,'title'] = df.loc[:,'title'].str.replace('\\(',' ',regex=True)\n",
    "# df.loc[:,'title'] = df.loc[:,'title'].str.replace('\\)',' ',regex=True)\n",
    "# df.loc[:,'title'] = df.loc[:,'title'].str.replace('\\:',' ',regex=True)\n",
    "# df.loc[:,'tags'] = df.loc[:,'tags'].str.replace('\\|',' ',regex=True)\n",
    "# df.loc[:,'tags'] = df.loc[:,'tags'].str.replace('\\\"',' ',regex=True)\n",
    "# df.loc[:,'category_names'] = df.loc[:,'category_names'].str.replace('\\&','',regex=True)\n",
    "# df.loc[:,'category_names'] = df.loc[:,'category_names'].str.replace('\\-','',regex=True)\n",
    "# df.loc[:,'category_names'] = df.loc[:,'category_names'].str.replace('\\/','',regex=True)\n",
    "# df.head()"
   ]
  },
  {
   "cell_type": "code",
   "execution_count": null,
   "id": "83f5d8f1-72ed-426f-a790-0415bb7fbb87",
   "metadata": {},
   "outputs": [],
   "source": [
    "topid.head(100)"
   ]
  },
  {
   "cell_type": "code",
   "execution_count": null,
   "id": "2c86a302-37b2-46cb-9218-2d6925d1ec7d",
   "metadata": {},
   "outputs": [],
   "source": [
    "text = topid['clean_comment'].sum()"
   ]
  },
  {
   "cell_type": "code",
   "execution_count": null,
   "id": "09ce9b37-450f-4e4b-bf85-72c13345afca",
   "metadata": {},
   "outputs": [],
   "source": [
    "wordcloud = WordCloud().generate(text)"
   ]
  },
  {
   "cell_type": "code",
   "execution_count": null,
   "id": "52082fa8-eb02-4fb6-b8a4-1da1796b8970",
   "metadata": {},
   "outputs": [],
   "source": [
    "wordcloud = WordCloud(background_color=\"white\").generate(text)\n",
    "plt.imshow(wordcloud, interpolation=\"bilinear\")\n",
    "plt.axis(\"off\")\n",
    "plt.show()"
   ]
  },
  {
   "cell_type": "code",
   "execution_count": null,
   "id": "bea01919-e603-496c-b807-75cff4d8c7c6",
   "metadata": {},
   "outputs": [],
   "source": [
    "#topid.to_csv('TopID_Comments_Analysis_YouTubeGB.csv',index=False,encoding='utf-8')"
   ]
  },
  {
   "cell_type": "code",
   "execution_count": null,
   "id": "17548918-3c80-41ea-b387-daacc316d4fb",
   "metadata": {
    "tags": []
   },
   "outputs": [],
   "source": [
    "#text"
   ]
  },
  {
   "cell_type": "code",
   "execution_count": null,
   "id": "66a75266-d0be-4562-a032-1ce511825cf5",
   "metadata": {},
   "outputs": [],
   "source": []
  },
  {
   "cell_type": "code",
   "execution_count": null,
   "id": "4dc88c99-0f5b-4cd3-b4ed-8f43e8f18f30",
   "metadata": {
    "tags": []
   },
   "outputs": [],
   "source": [
    "\n"
   ]
  },
  {
   "cell_type": "code",
   "execution_count": null,
   "id": "5b5b0b53-a299-40bc-8f66-564531c7eb1f",
   "metadata": {},
   "outputs": [],
   "source": []
  },
  {
   "cell_type": "code",
   "execution_count": null,
   "id": "74c9ac16-98d8-4a13-9ae5-ce5cbb927f95",
   "metadata": {},
   "outputs": [],
   "source": [
    "\n"
   ]
  },
  {
   "cell_type": "code",
   "execution_count": null,
   "id": "d17ae512-6d3f-4e84-acd0-1164fab6262a",
   "metadata": {},
   "outputs": [],
   "source": []
  },
  {
   "cell_type": "code",
   "execution_count": null,
   "id": "57d02026-3f53-4cb2-9a28-e20756b73fea",
   "metadata": {},
   "outputs": [],
   "source": []
  },
  {
   "cell_type": "code",
   "execution_count": null,
   "id": "8c329f31-f2f9-4268-b3c2-c77de27b3653",
   "metadata": {},
   "outputs": [],
   "source": []
  },
  {
   "cell_type": "code",
   "execution_count": null,
   "id": "49b4f810-8fb5-4ab5-8947-cdfa58bd3190",
   "metadata": {},
   "outputs": [],
   "source": []
  }
 ],
 "metadata": {
  "kernelspec": {
   "display_name": "Python 3 (ipykernel)",
   "language": "python",
   "name": "python3"
  },
  "language_info": {
   "codemirror_mode": {
    "name": "ipython",
    "version": 3
   },
   "file_extension": ".py",
   "mimetype": "text/x-python",
   "name": "python",
   "nbconvert_exporter": "python",
   "pygments_lexer": "ipython3",
   "version": "3.9.12"
  }
 },
 "nbformat": 4,
 "nbformat_minor": 5
}
