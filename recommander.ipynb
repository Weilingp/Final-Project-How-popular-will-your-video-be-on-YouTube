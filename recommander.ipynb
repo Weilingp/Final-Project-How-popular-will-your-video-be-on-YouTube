{
 "cells": [
  {
   "cell_type": "code",
   "execution_count": 38,
   "id": "72303541-3d5e-4a87-9bfa-f8bc7012fddb",
   "metadata": {},
   "outputs": [],
   "source": [
    "import pandas as pd\n",
    "from datetime import datetime\n",
    "import matplotlib.pyplot as plt\n",
    "import seaborn as sns"
   ]
  },
  {
   "cell_type": "code",
   "execution_count": 39,
   "id": "ccda675f-31c7-450f-98cc-8baf5efc675e",
   "metadata": {},
   "outputs": [
    {
     "data": {
      "text/html": [
       "<div>\n",
       "<style scoped>\n",
       "    .dataframe tbody tr th:only-of-type {\n",
       "        vertical-align: middle;\n",
       "    }\n",
       "\n",
       "    .dataframe tbody tr th {\n",
       "        vertical-align: top;\n",
       "    }\n",
       "\n",
       "    .dataframe thead th {\n",
       "        text-align: right;\n",
       "    }\n",
       "</style>\n",
       "<table border=\"1\" class=\"dataframe\">\n",
       "  <thead>\n",
       "    <tr style=\"text-align: right;\">\n",
       "      <th></th>\n",
       "      <th>video_id</th>\n",
       "      <th>trending_date</th>\n",
       "      <th>title</th>\n",
       "      <th>channel_title</th>\n",
       "      <th>category_id</th>\n",
       "      <th>publish_time</th>\n",
       "      <th>tags</th>\n",
       "      <th>views</th>\n",
       "      <th>likes</th>\n",
       "      <th>dislikes</th>\n",
       "      <th>comment_count</th>\n",
       "      <th>thumbnail_link</th>\n",
       "      <th>comments_disabled</th>\n",
       "      <th>ratings_disabled</th>\n",
       "      <th>video_error_or_removed</th>\n",
       "      <th>description</th>\n",
       "    </tr>\n",
       "  </thead>\n",
       "  <tbody>\n",
       "    <tr>\n",
       "      <th>0</th>\n",
       "      <td>Jw1Y-zhQURU</td>\n",
       "      <td>17.14.11</td>\n",
       "      <td>John Lewis Christmas Ad 2017 - #MozTheMonster</td>\n",
       "      <td>John Lewis</td>\n",
       "      <td>26</td>\n",
       "      <td>2017-11-10T07:38:29.000Z</td>\n",
       "      <td>christmas|\"john lewis christmas\"|\"john lewis\"|...</td>\n",
       "      <td>7224515</td>\n",
       "      <td>55681</td>\n",
       "      <td>10247</td>\n",
       "      <td>9479</td>\n",
       "      <td>https://i.ytimg.com/vi/Jw1Y-zhQURU/default.jpg</td>\n",
       "      <td>False</td>\n",
       "      <td>False</td>\n",
       "      <td>False</td>\n",
       "      <td>Click here to continue the story and make your...</td>\n",
       "    </tr>\n",
       "    <tr>\n",
       "      <th>1</th>\n",
       "      <td>3s1rvMFUweQ</td>\n",
       "      <td>17.14.11</td>\n",
       "      <td>Taylor Swift: …Ready for It? (Live) - SNL</td>\n",
       "      <td>Saturday Night Live</td>\n",
       "      <td>24</td>\n",
       "      <td>2017-11-12T06:24:44.000Z</td>\n",
       "      <td>SNL|\"Saturday Night Live\"|\"SNL Season 43\"|\"Epi...</td>\n",
       "      <td>1053632</td>\n",
       "      <td>25561</td>\n",
       "      <td>2294</td>\n",
       "      <td>2757</td>\n",
       "      <td>https://i.ytimg.com/vi/3s1rvMFUweQ/default.jpg</td>\n",
       "      <td>False</td>\n",
       "      <td>False</td>\n",
       "      <td>False</td>\n",
       "      <td>Musical guest Taylor Swift performs …Ready for...</td>\n",
       "    </tr>\n",
       "    <tr>\n",
       "      <th>2</th>\n",
       "      <td>n1WpP7iowLc</td>\n",
       "      <td>17.14.11</td>\n",
       "      <td>Eminem - Walk On Water (Audio) ft. Beyoncé</td>\n",
       "      <td>EminemVEVO</td>\n",
       "      <td>10</td>\n",
       "      <td>2017-11-10T17:00:03.000Z</td>\n",
       "      <td>Eminem|\"Walk\"|\"On\"|\"Water\"|\"Aftermath/Shady/In...</td>\n",
       "      <td>17158579</td>\n",
       "      <td>787420</td>\n",
       "      <td>43420</td>\n",
       "      <td>125882</td>\n",
       "      <td>https://i.ytimg.com/vi/n1WpP7iowLc/default.jpg</td>\n",
       "      <td>False</td>\n",
       "      <td>False</td>\n",
       "      <td>False</td>\n",
       "      <td>Eminem's new track Walk on Water ft. Beyoncé i...</td>\n",
       "    </tr>\n",
       "    <tr>\n",
       "      <th>3</th>\n",
       "      <td>PUTEiSjKwJU</td>\n",
       "      <td>17.14.11</td>\n",
       "      <td>Goals from Salford City vs Class of 92 and Fri...</td>\n",
       "      <td>Salford City Football Club</td>\n",
       "      <td>17</td>\n",
       "      <td>2017-11-13T02:30:38.000Z</td>\n",
       "      <td>Salford City FC|\"Salford City\"|\"Salford\"|\"Clas...</td>\n",
       "      <td>27833</td>\n",
       "      <td>193</td>\n",
       "      <td>12</td>\n",
       "      <td>37</td>\n",
       "      <td>https://i.ytimg.com/vi/PUTEiSjKwJU/default.jpg</td>\n",
       "      <td>False</td>\n",
       "      <td>False</td>\n",
       "      <td>False</td>\n",
       "      <td>Salford drew 4-4 against the Class of 92 and F...</td>\n",
       "    </tr>\n",
       "    <tr>\n",
       "      <th>4</th>\n",
       "      <td>rHwDegptbI4</td>\n",
       "      <td>17.14.11</td>\n",
       "      <td>Dashcam captures truck's near miss with child ...</td>\n",
       "      <td>Cute Girl Videos</td>\n",
       "      <td>25</td>\n",
       "      <td>2017-11-13T01:45:13.000Z</td>\n",
       "      <td>[none]</td>\n",
       "      <td>9815</td>\n",
       "      <td>30</td>\n",
       "      <td>2</td>\n",
       "      <td>30</td>\n",
       "      <td>https://i.ytimg.com/vi/rHwDegptbI4/default.jpg</td>\n",
       "      <td>False</td>\n",
       "      <td>False</td>\n",
       "      <td>False</td>\n",
       "      <td>Dashcam captures truck's near miss with child ...</td>\n",
       "    </tr>\n",
       "  </tbody>\n",
       "</table>\n",
       "</div>"
      ],
      "text/plain": [
       "      video_id trending_date  \\\n",
       "0  Jw1Y-zhQURU      17.14.11   \n",
       "1  3s1rvMFUweQ      17.14.11   \n",
       "2  n1WpP7iowLc      17.14.11   \n",
       "3  PUTEiSjKwJU      17.14.11   \n",
       "4  rHwDegptbI4      17.14.11   \n",
       "\n",
       "                                               title  \\\n",
       "0      John Lewis Christmas Ad 2017 - #MozTheMonster   \n",
       "1          Taylor Swift: …Ready for It? (Live) - SNL   \n",
       "2         Eminem - Walk On Water (Audio) ft. Beyoncé   \n",
       "3  Goals from Salford City vs Class of 92 and Fri...   \n",
       "4  Dashcam captures truck's near miss with child ...   \n",
       "\n",
       "                channel_title  category_id              publish_time  \\\n",
       "0                  John Lewis           26  2017-11-10T07:38:29.000Z   \n",
       "1         Saturday Night Live           24  2017-11-12T06:24:44.000Z   \n",
       "2                  EminemVEVO           10  2017-11-10T17:00:03.000Z   \n",
       "3  Salford City Football Club           17  2017-11-13T02:30:38.000Z   \n",
       "4            Cute Girl Videos           25  2017-11-13T01:45:13.000Z   \n",
       "\n",
       "                                                tags     views   likes  \\\n",
       "0  christmas|\"john lewis christmas\"|\"john lewis\"|...   7224515   55681   \n",
       "1  SNL|\"Saturday Night Live\"|\"SNL Season 43\"|\"Epi...   1053632   25561   \n",
       "2  Eminem|\"Walk\"|\"On\"|\"Water\"|\"Aftermath/Shady/In...  17158579  787420   \n",
       "3  Salford City FC|\"Salford City\"|\"Salford\"|\"Clas...     27833     193   \n",
       "4                                             [none]      9815      30   \n",
       "\n",
       "   dislikes  comment_count                                  thumbnail_link  \\\n",
       "0     10247           9479  https://i.ytimg.com/vi/Jw1Y-zhQURU/default.jpg   \n",
       "1      2294           2757  https://i.ytimg.com/vi/3s1rvMFUweQ/default.jpg   \n",
       "2     43420         125882  https://i.ytimg.com/vi/n1WpP7iowLc/default.jpg   \n",
       "3        12             37  https://i.ytimg.com/vi/PUTEiSjKwJU/default.jpg   \n",
       "4         2             30  https://i.ytimg.com/vi/rHwDegptbI4/default.jpg   \n",
       "\n",
       "   comments_disabled  ratings_disabled  video_error_or_removed  \\\n",
       "0              False             False                   False   \n",
       "1              False             False                   False   \n",
       "2              False             False                   False   \n",
       "3              False             False                   False   \n",
       "4              False             False                   False   \n",
       "\n",
       "                                         description  \n",
       "0  Click here to continue the story and make your...  \n",
       "1  Musical guest Taylor Swift performs …Ready for...  \n",
       "2  Eminem's new track Walk on Water ft. Beyoncé i...  \n",
       "3  Salford drew 4-4 against the Class of 92 and F...  \n",
       "4  Dashcam captures truck's near miss with child ...  "
      ]
     },
     "execution_count": 39,
     "metadata": {},
     "output_type": "execute_result"
    }
   ],
   "source": [
    "df_DEvideo = pd.read_csv(\"GBvideos_no_comments.csv\")#, index_col= \"video_id\")\n",
    "category = pd.read_csv(\"category_names.csv\")\n",
    "df_DEvideo.head()"
   ]
  },
  {
   "cell_type": "code",
   "execution_count": 41,
   "id": "9f51d4ab-661f-4238-a0f9-11f7146b73f9",
   "metadata": {},
   "outputs": [
    {
     "data": {
      "text/plain": [
       "(38916, 17)"
      ]
     },
     "execution_count": 41,
     "metadata": {},
     "output_type": "execute_result"
    }
   ],
   "source": [
    "df =pd.merge(df_DEvideo, category, on='category_id')\n",
    "df.shape"
   ]
  },
  {
   "cell_type": "code",
   "execution_count": 5,
   "id": "20f7ebd1-104e-4150-971f-599e8929af00",
   "metadata": {},
   "outputs": [
    {
     "name": "stdout",
     "output_type": "stream",
     "text": [
      "<class 'pandas.core.frame.DataFrame'>\n",
      "Int64Index: 40840 entries, 0 to 40839\n",
      "Data columns (total 17 columns):\n",
      " #   Column                  Non-Null Count  Dtype              \n",
      "---  ------                  --------------  -----              \n",
      " 0   video_id                40840 non-null  object             \n",
      " 1   trending_date           40840 non-null  datetime64[ns, UTC]\n",
      " 2   title                   40840 non-null  object             \n",
      " 3   channel_title           40840 non-null  object             \n",
      " 4   category_id             40840 non-null  int64              \n",
      " 5   publish_time            40840 non-null  datetime64[ns, UTC]\n",
      " 6   tags                    37809 non-null  object             \n",
      " 7   views                   40840 non-null  int64              \n",
      " 8   likes                   40840 non-null  int64              \n",
      " 9   dislikes                40840 non-null  int64              \n",
      " 10  comment_count           40840 non-null  int64              \n",
      " 11  thumbnail_link          40840 non-null  object             \n",
      " 12  comments_disabled       40840 non-null  bool               \n",
      " 13  ratings_disabled        40840 non-null  bool               \n",
      " 14  video_error_or_removed  40840 non-null  bool               \n",
      " 15  description             39286 non-null  object             \n",
      " 16  category_names          40840 non-null  object             \n",
      "dtypes: bool(3), datetime64[ns, UTC](2), int64(5), object(7)\n",
      "memory usage: 4.8+ MB\n"
     ]
    }
   ],
   "source": [
    "df['publish_time']=pd.to_datetime(df['publish_time'])\n",
    "df['trending_date']=pd.to_datetime(df['publish_time'],format='%y%m%d')\n",
    "df.info()"
   ]
  },
  {
   "cell_type": "code",
   "execution_count": 6,
   "id": "51471e35-f344-4c7e-bf73-7a9f5160fbab",
   "metadata": {},
   "outputs": [],
   "source": [
    "df_views_likes_dislikes_comment_count = df[['video_id', 'views', 'likes', 'dislikes', 'comment_count']]"
   ]
  },
  {
   "cell_type": "code",
   "execution_count": 7,
   "id": "ca6a4c3d-f021-44c8-b0e5-657660d5c107",
   "metadata": {
    "tags": []
   },
   "outputs": [
    {
     "data": {
      "text/html": [
       "<div>\n",
       "<style scoped>\n",
       "    .dataframe tbody tr th:only-of-type {\n",
       "        vertical-align: middle;\n",
       "    }\n",
       "\n",
       "    .dataframe tbody tr th {\n",
       "        vertical-align: top;\n",
       "    }\n",
       "\n",
       "    .dataframe thead th {\n",
       "        text-align: right;\n",
       "    }\n",
       "</style>\n",
       "<table border=\"1\" class=\"dataframe\">\n",
       "  <thead>\n",
       "    <tr style=\"text-align: right;\">\n",
       "      <th></th>\n",
       "      <th>video_id</th>\n",
       "      <th>views</th>\n",
       "    </tr>\n",
       "  </thead>\n",
       "  <tbody>\n",
       "    <tr>\n",
       "      <th>1921</th>\n",
       "      <td>FlsCjmMhFmw</td>\n",
       "      <td>113876217</td>\n",
       "    </tr>\n",
       "    <tr>\n",
       "      <th>1835</th>\n",
       "      <td>FlsCjmMhFmw</td>\n",
       "      <td>100911567</td>\n",
       "    </tr>\n",
       "    <tr>\n",
       "      <th>1385</th>\n",
       "      <td>6ZfuNTqbHE8</td>\n",
       "      <td>80360459</td>\n",
       "    </tr>\n",
       "    <tr>\n",
       "      <th>1745</th>\n",
       "      <td>FlsCjmMhFmw</td>\n",
       "      <td>75969469</td>\n",
       "    </tr>\n",
       "    <tr>\n",
       "      <th>1282</th>\n",
       "      <td>6ZfuNTqbHE8</td>\n",
       "      <td>74789251</td>\n",
       "    </tr>\n",
       "    <tr>\n",
       "      <th>37417</th>\n",
       "      <td>7C2z4GqqS5E</td>\n",
       "      <td>73463137</td>\n",
       "    </tr>\n",
       "    <tr>\n",
       "      <th>37279</th>\n",
       "      <td>VYOjWnS4cMY</td>\n",
       "      <td>73432600</td>\n",
       "    </tr>\n",
       "    <tr>\n",
       "      <th>1203</th>\n",
       "      <td>6ZfuNTqbHE8</td>\n",
       "      <td>66637636</td>\n",
       "    </tr>\n",
       "    <tr>\n",
       "      <th>37399</th>\n",
       "      <td>7C2z4GqqS5E</td>\n",
       "      <td>65396157</td>\n",
       "    </tr>\n",
       "    <tr>\n",
       "      <th>37374</th>\n",
       "      <td>7C2z4GqqS5E</td>\n",
       "      <td>62796390</td>\n",
       "    </tr>\n",
       "  </tbody>\n",
       "</table>\n",
       "</div>"
      ],
      "text/plain": [
       "          video_id      views\n",
       "1921   FlsCjmMhFmw  113876217\n",
       "1835   FlsCjmMhFmw  100911567\n",
       "1385   6ZfuNTqbHE8   80360459\n",
       "1745   FlsCjmMhFmw   75969469\n",
       "1282   6ZfuNTqbHE8   74789251\n",
       "37417  7C2z4GqqS5E   73463137\n",
       "37279  VYOjWnS4cMY   73432600\n",
       "1203   6ZfuNTqbHE8   66637636\n",
       "37399  7C2z4GqqS5E   65396157\n",
       "37374  7C2z4GqqS5E   62796390"
      ]
     },
     "execution_count": 7,
     "metadata": {},
     "output_type": "execute_result"
    }
   ],
   "source": [
    "df_view = df[['video_id', 'views']].sort_values('views', ascending=False).head(10)\n",
    "df_likes = df[['video_id', 'likes']].sort_values('likes', ascending=False).head(10)\n",
    "df_dislikes = df[['video_id', 'dislikes']].sort_values('dislikes', ascending=False).head(10)\n",
    "df_comment_count = df[['video_id', 'comment_count']].sort_values('comment_count', ascending=False).head(10)\n",
    "df_view"
   ]
  },
  {
   "cell_type": "code",
   "execution_count": 8,
   "id": "a31e6688-cf19-430a-bbc4-8d6c520c1d41",
   "metadata": {
    "tags": []
   },
   "outputs": [
    {
     "data": {
      "image/png": "[encoded data removed]",
      "text/plain": [
       "<Figure size 1080x1080 with 4 Axes>"
      ]
     },
     "metadata": {
      "needs_background": "light"
     },
     "output_type": "display_data"
    }
   ],
   "source": [
    "f,axarr = plt.subplots(2,2, figsize=(15,15))\n",
    "mpgval = 'video_id'\n",
    "axarr[0,0].barh(df_view['video_id'], df_view['views'])\n",
    "axarr[0,0].set_title('views')\n",
    "axarr[0,1].barh(df_likes['video_id'], df_likes['likes'])\n",
    "axarr[0,1].set_title('likes')\n",
    "axarr[1,0].barh(df_dislikes['video_id'], df_dislikes['dislikes'])\n",
    "axarr[1,0].set_title('dislikes')\n",
    "axarr[1,1].barh(df_comment_count['video_id'], df_comment_count['comment_count'])\n",
    "axarr[1,1].set_title('comment_count')\n",
    "\n",
    "f.text(-0.01, 0.5, 'video_id', va='center', rotation='vertical', fontsize = 12)\n",
    "plt.tight_layout()\n",
    "plt.show()"
   ]
  },
  {
   "cell_type": "code",
   "execution_count": 9,
   "id": "1da02ca7-e4c2-49f2-a918-90b743ef949b",
   "metadata": {
    "tags": []
   },
   "outputs": [
    {
     "data": {
      "image/png": "[encoded data removed]",
      "text/plain": [
       "<Figure size 432x288 with 1 Axes>"
      ]
     },
     "metadata": {
      "needs_background": "light"
     },
     "output_type": "display_data"
    }
   ],
   "source": [
    "ax = df_view.plot.barh(x='video_id', y='views')#, rot=0)"
   ]
  },
  {
   "cell_type": "code",
   "execution_count": 10,
   "id": "9bac3296-dabf-4e05-ae21-e7c4e19deb96",
   "metadata": {},
   "outputs": [],
   "source": [
    "#top 20 channels have the most trending videos using value_counts "
   ]
  },
  {
   "cell_type": "code",
   "execution_count": 11,
   "id": "5c935366-1523-4ca4-af24-8a979e6eefe3",
   "metadata": {},
   "outputs": [],
   "source": [
    "top10_channels = df.channel_title.value_counts()[:20]"
   ]
  },
  {
   "cell_type": "code",
   "execution_count": 12,
   "id": "cd4f7457-b063-41fe-b3e1-b0a5da0c11ba",
   "metadata": {
    "tags": []
   },
   "outputs": [
    {
     "data": {
      "text/html": [
       "<div>\n",
       "<style scoped>\n",
       "    .dataframe tbody tr th:only-of-type {\n",
       "        vertical-align: middle;\n",
       "    }\n",
       "\n",
       "    .dataframe tbody tr th {\n",
       "        vertical-align: top;\n",
       "    }\n",
       "\n",
       "    .dataframe thead th {\n",
       "        text-align: right;\n",
       "    }\n",
       "</style>\n",
       "<table border=\"1\" class=\"dataframe\">\n",
       "  <thead>\n",
       "    <tr style=\"text-align: right;\">\n",
       "      <th></th>\n",
       "      <th>channel_title</th>\n",
       "      <th>video_count</th>\n",
       "    </tr>\n",
       "  </thead>\n",
       "  <tbody>\n",
       "    <tr>\n",
       "      <th>1792</th>\n",
       "      <td>Galileo</td>\n",
       "      <td>200</td>\n",
       "    </tr>\n",
       "    <tr>\n",
       "      <th>3995</th>\n",
       "      <td>Ruhrpottwache</td>\n",
       "      <td>185</td>\n",
       "    </tr>\n",
       "    <tr>\n",
       "      <th>5807</th>\n",
       "      <td>Анатолий Шарий</td>\n",
       "      <td>182</td>\n",
       "    </tr>\n",
       "    <tr>\n",
       "      <th>400</th>\n",
       "      <td>Auf Streife</td>\n",
       "      <td>180</td>\n",
       "    </tr>\n",
       "    <tr>\n",
       "      <th>5771</th>\n",
       "      <td>Çukur</td>\n",
       "      <td>180</td>\n",
       "    </tr>\n",
       "    <tr>\n",
       "      <th>5285</th>\n",
       "      <td>atv</td>\n",
       "      <td>179</td>\n",
       "    </tr>\n",
       "    <tr>\n",
       "      <th>3752</th>\n",
       "      <td>Promiflash</td>\n",
       "      <td>172</td>\n",
       "    </tr>\n",
       "    <tr>\n",
       "      <th>2247</th>\n",
       "      <td>JP Performance</td>\n",
       "      <td>159</td>\n",
       "    </tr>\n",
       "    <tr>\n",
       "      <th>4661</th>\n",
       "      <td>The Daily Show with Trevor Noah</td>\n",
       "      <td>140</td>\n",
       "    </tr>\n",
       "    <tr>\n",
       "      <th>4478</th>\n",
       "      <td>Söz Dizi</td>\n",
       "      <td>140</td>\n",
       "    </tr>\n",
       "    <tr>\n",
       "      <th>188</th>\n",
       "      <td>Adını Sen Koy</td>\n",
       "      <td>134</td>\n",
       "    </tr>\n",
       "    <tr>\n",
       "      <th>2531</th>\n",
       "      <td>Klinik am Südring</td>\n",
       "      <td>133</td>\n",
       "    </tr>\n",
       "    <tr>\n",
       "      <th>5905</th>\n",
       "      <td>Россия 24</td>\n",
       "      <td>131</td>\n",
       "    </tr>\n",
       "    <tr>\n",
       "      <th>5002</th>\n",
       "      <td>VikatanTV</td>\n",
       "      <td>130</td>\n",
       "    </tr>\n",
       "    <tr>\n",
       "      <th>2923</th>\n",
       "      <td>Made My Day</td>\n",
       "      <td>130</td>\n",
       "    </tr>\n",
       "    <tr>\n",
       "      <th>1464</th>\n",
       "      <td>Esra Erol'da</td>\n",
       "      <td>127</td>\n",
       "    </tr>\n",
       "    <tr>\n",
       "      <th>4677</th>\n",
       "      <td>The Late Show with Stephen Colbert</td>\n",
       "      <td>126</td>\n",
       "    </tr>\n",
       "    <tr>\n",
       "      <th>4099</th>\n",
       "      <td>Sallys Welt</td>\n",
       "      <td>126</td>\n",
       "    </tr>\n",
       "    <tr>\n",
       "      <th>561</th>\n",
       "      <td>Beni Affet</td>\n",
       "      <td>125</td>\n",
       "    </tr>\n",
       "    <tr>\n",
       "      <th>5115</th>\n",
       "      <td>World Wide Wohnzimmer</td>\n",
       "      <td>123</td>\n",
       "    </tr>\n",
       "  </tbody>\n",
       "</table>\n",
       "</div>"
      ],
      "text/plain": [
       "                           channel_title  video_count\n",
       "1792                             Galileo          200\n",
       "3995                       Ruhrpottwache          185\n",
       "5807                      Анатолий Шарий          182\n",
       "400                          Auf Streife          180\n",
       "5771                               Çukur          180\n",
       "5285                                 atv          179\n",
       "3752                          Promiflash          172\n",
       "2247                      JP Performance          159\n",
       "4661     The Daily Show with Trevor Noah          140\n",
       "4478                            Söz Dizi          140\n",
       "188                        Adını Sen Koy          134\n",
       "2531                   Klinik am Südring          133\n",
       "5905                           Россия 24          131\n",
       "5002                           VikatanTV          130\n",
       "2923                         Made My Day          130\n",
       "1464                        Esra Erol'da          127\n",
       "4677  The Late Show with Stephen Colbert          126\n",
       "4099                         Sallys Welt          126\n",
       "561                           Beni Affet          125\n",
       "5115               World Wide Wohnzimmer          123"
      ]
     },
     "execution_count": 12,
     "metadata": {},
     "output_type": "execute_result"
    }
   ],
   "source": [
    "chanelsbysize =df.groupby(\"channel_title\").size().reset_index(name=\"video_count\")\n",
    "chanelsbysize = chanelsbysize.sort_values(\"video_count\", ascending=False).head(20)\n",
    "chanelsbysize"
   ]
  },
  {
   "cell_type": "code",
   "execution_count": 13,
   "id": "a25b37d0-c498-4fb0-83f9-b14dbc9d8f18",
   "metadata": {},
   "outputs": [
    {
     "data": {
      "image/png": "[encoded data removed]",
      "text/plain": [
       "<Figure size 576x576 with 1 Axes>"
      ]
     },
     "metadata": {
      "needs_background": "light"
     },
     "output_type": "display_data"
    }
   ],
   "source": [
    "fig, ax = plt.subplots(figsize=(8,8))\n",
    "channel = sns.barplot(x=\"video_count\", y=\"channel_title\", data=chanelsbysize,palette=('flare'), ax=ax)\n",
    "channel = ax.set(xlabel=\"number of videos base on the size of the channel\", ylabel=\"top20 Channels with most trending videos\")"
   ]
  },
  {
   "cell_type": "code",
   "execution_count": 14,
   "id": "7fdb9d38-4f87-4cab-b58c-5f2396bdc6c7",
   "metadata": {},
   "outputs": [],
   "source": [
    "def channel_with_more_videos(n):\n",
    "    \n",
    "    chanelsbysize =df.groupby(\"channel_title\").size().reset_index(name=\"video_count\")\n",
    "    chanelsbysize = chanelsbysize.sort_values(\"video_count\", ascending=False).head(n)\n",
    "    top_recommendations = chanelsbysize['channel_title'].reset_index()\n",
    "    return top_recommendations"
   ]
  },
  {
   "cell_type": "code",
   "execution_count": 21,
   "id": "0e6175c8-1aab-4120-939b-6c672133d703",
   "metadata": {
    "tags": []
   },
   "outputs": [
    {
     "data": {
      "text/html": [
       "<div>\n",
       "<style scoped>\n",
       "    .dataframe tbody tr th:only-of-type {\n",
       "        vertical-align: middle;\n",
       "    }\n",
       "\n",
       "    .dataframe tbody tr th {\n",
       "        vertical-align: top;\n",
       "    }\n",
       "\n",
       "    .dataframe thead th {\n",
       "        text-align: right;\n",
       "    }\n",
       "</style>\n",
       "<table border=\"1\" class=\"dataframe\">\n",
       "  <thead>\n",
       "    <tr style=\"text-align: right;\">\n",
       "      <th></th>\n",
       "      <th>index</th>\n",
       "      <th>channel_title</th>\n",
       "    </tr>\n",
       "  </thead>\n",
       "  <tbody>\n",
       "    <tr>\n",
       "      <th>0</th>\n",
       "      <td>1792</td>\n",
       "      <td>Galileo</td>\n",
       "    </tr>\n",
       "    <tr>\n",
       "      <th>1</th>\n",
       "      <td>3995</td>\n",
       "      <td>Ruhrpottwache</td>\n",
       "    </tr>\n",
       "    <tr>\n",
       "      <th>2</th>\n",
       "      <td>5807</td>\n",
       "      <td>Анатолий Шарий</td>\n",
       "    </tr>\n",
       "    <tr>\n",
       "      <th>3</th>\n",
       "      <td>400</td>\n",
       "      <td>Auf Streife</td>\n",
       "    </tr>\n",
       "    <tr>\n",
       "      <th>4</th>\n",
       "      <td>5771</td>\n",
       "      <td>Çukur</td>\n",
       "    </tr>\n",
       "    <tr>\n",
       "      <th>5</th>\n",
       "      <td>5285</td>\n",
       "      <td>atv</td>\n",
       "    </tr>\n",
       "    <tr>\n",
       "      <th>6</th>\n",
       "      <td>3752</td>\n",
       "      <td>Promiflash</td>\n",
       "    </tr>\n",
       "    <tr>\n",
       "      <th>7</th>\n",
       "      <td>2247</td>\n",
       "      <td>JP Performance</td>\n",
       "    </tr>\n",
       "    <tr>\n",
       "      <th>8</th>\n",
       "      <td>4661</td>\n",
       "      <td>The Daily Show with Trevor Noah</td>\n",
       "    </tr>\n",
       "    <tr>\n",
       "      <th>9</th>\n",
       "      <td>4478</td>\n",
       "      <td>Söz Dizi</td>\n",
       "    </tr>\n",
       "  </tbody>\n",
       "</table>\n",
       "</div>"
      ],
      "text/plain": [
       "   index                    channel_title\n",
       "0   1792                          Galileo\n",
       "1   3995                    Ruhrpottwache\n",
       "2   5807                   Анатолий Шарий\n",
       "3    400                      Auf Streife\n",
       "4   5771                            Çukur\n",
       "5   5285                              atv\n",
       "6   3752                       Promiflash\n",
       "7   2247                   JP Performance\n",
       "8   4661  The Daily Show with Trevor Noah\n",
       "9   4478                         Söz Dizi"
      ]
     },
     "execution_count": 21,
     "metadata": {},
     "output_type": "execute_result"
    }
   ],
   "source": [
    "channel_with_more_videos(10)"
   ]
  },
  {
   "cell_type": "code",
   "execution_count": 22,
   "id": "36eb67cf-f889-4a53-b166-77e3d16da3a3",
   "metadata": {},
   "outputs": [
    {
     "data": {
      "text/html": [
       "<div>\n",
       "<style scoped>\n",
       "    .dataframe tbody tr th:only-of-type {\n",
       "        vertical-align: middle;\n",
       "    }\n",
       "\n",
       "    .dataframe tbody tr th {\n",
       "        vertical-align: top;\n",
       "    }\n",
       "\n",
       "    .dataframe thead th {\n",
       "        text-align: right;\n",
       "    }\n",
       "</style>\n",
       "<table border=\"1\" class=\"dataframe\">\n",
       "  <thead>\n",
       "    <tr style=\"text-align: right;\">\n",
       "      <th></th>\n",
       "      <th>channel_title</th>\n",
       "      <th>views</th>\n",
       "    </tr>\n",
       "  </thead>\n",
       "  <tbody>\n",
       "    <tr>\n",
       "      <th>3024</th>\n",
       "      <td>Marvel Entertainment</td>\n",
       "      <td>585900476</td>\n",
       "    </tr>\n",
       "    <tr>\n",
       "      <th>1312</th>\n",
       "      <td>Dude Perfect</td>\n",
       "      <td>408515774</td>\n",
       "    </tr>\n",
       "    <tr>\n",
       "      <th>5470</th>\n",
       "      <td>ibighit</td>\n",
       "      <td>368806027</td>\n",
       "    </tr>\n",
       "    <tr>\n",
       "      <th>5187</th>\n",
       "      <td>YouTube Spotlight</td>\n",
       "      <td>368298641</td>\n",
       "    </tr>\n",
       "    <tr>\n",
       "      <th>3647</th>\n",
       "      <td>PewDiePie</td>\n",
       "      <td>307554426</td>\n",
       "    </tr>\n",
       "    <tr>\n",
       "      <th>...</th>\n",
       "      <td>...</td>\n",
       "      <td>...</td>\n",
       "    </tr>\n",
       "    <tr>\n",
       "      <th>5292</th>\n",
       "      <td>baaady</td>\n",
       "      <td>1138</td>\n",
       "    </tr>\n",
       "    <tr>\n",
       "      <th>689</th>\n",
       "      <td>Brian</td>\n",
       "      <td>1126</td>\n",
       "    </tr>\n",
       "    <tr>\n",
       "      <th>4747</th>\n",
       "      <td>Thermi Manu</td>\n",
       "      <td>1097</td>\n",
       "    </tr>\n",
       "    <tr>\n",
       "      <th>2799</th>\n",
       "      <td>Lotic</td>\n",
       "      <td>1075</td>\n",
       "    </tr>\n",
       "    <tr>\n",
       "      <th>5113</th>\n",
       "      <td>Wolfgang Brehm</td>\n",
       "      <td>744</td>\n",
       "    </tr>\n",
       "  </tbody>\n",
       "</table>\n",
       "<p>6085 rows × 2 columns</p>\n",
       "</div>"
      ],
      "text/plain": [
       "             channel_title      views\n",
       "3024  Marvel Entertainment  585900476\n",
       "1312          Dude Perfect  408515774\n",
       "5470               ibighit  368806027\n",
       "5187     YouTube Spotlight  368298641\n",
       "3647             PewDiePie  307554426\n",
       "...                    ...        ...\n",
       "5292                baaady       1138\n",
       "689                  Brian       1126\n",
       "4747           Thermi Manu       1097\n",
       "2799                 Lotic       1075\n",
       "5113        Wolfgang Brehm        744\n",
       "\n",
       "[6085 rows x 2 columns]"
      ]
     },
     "execution_count": 22,
     "metadata": {},
     "output_type": "execute_result"
    }
   ],
   "source": [
    "channel_withmoreviews = df.groupby('channel_title')[['views']].sum().reset_index()\n",
    "channel_withmoreviews.sort_values(by='views',inplace=True,ascending=False)\n",
    "channel_withmoreviews"
   ]
  },
  {
   "cell_type": "code",
   "execution_count": 23,
   "id": "92a5a7ff-077f-4c7e-a7b8-e7dd18294939",
   "metadata": {},
   "outputs": [],
   "source": [
    "top20channel_withmoreviews =channel_withmoreviews.head(20)"
   ]
  },
  {
   "cell_type": "code",
   "execution_count": 24,
   "id": "22368aac-8099-4b13-8f25-56c74ea6ce3a",
   "metadata": {},
   "outputs": [
    {
     "data": {
      "image/png": "[encoded data removed]",
      "text/plain": [
       "<Figure size 1440x864 with 1 Axes>"
      ]
     },
     "metadata": {
      "needs_background": "light"
     },
     "output_type": "display_data"
    }
   ],
   "source": [
    "#channel with more views\n",
    "fig, ax = plt.subplots(figsize=(20,12))\n",
    "channel = sns.barplot(x=\"channel_title\", y=\"views\", data=top20channel_withmoreviews,palette=('flare'), ax=ax)\n",
    "plt.xticks(rotation=90)\n",
    "channel = ax.set(xlabel=\"channel_title\", ylabel=\"top20 Channels with most viewed videos\")"
   ]
  },
  {
   "cell_type": "code",
   "execution_count": null,
   "id": "6f3fc003-5c54-4e6d-a945-8f319fe16e0c",
   "metadata": {},
   "outputs": [],
   "source": [
    "#chanels with more views"
   ]
  },
  {
   "cell_type": "code",
   "execution_count": 25,
   "id": "c583f5a5-4921-4769-a219-35cb2abc8e3a",
   "metadata": {},
   "outputs": [],
   "source": [
    "def channel_with_more_videos_and_View(n):\n",
    "    chanelsbysizeandview = pd.DataFrame(df[['channel_title','views']].groupby('channel_title')['views'].mean())#.reset_index(name=\"view_mean\")\n",
    "    chanelsbysizeandview['channels_count'] = df[['channel_title','views']].groupby('channel_title')['views'].count()\n",
    "    \n",
    "    chanelsbysizeandview_avg = chanelsbysizeandview.loc[(chanelsbysizeandview.views >= 800000) & (chanelsbysizeandview.channels_count >= 50)]\n",
    "    \n",
    "    topn_chanelsbysizeand_views =  chanelsbysizeandview_avg.sort_values(by=('views'), ascending=False).head(n)#.reset_index()\n",
    "    top_recommendations = topn_chanelsbysizeand_views.index\n",
    "    return top_recommendations"
   ]
  },
  {
   "cell_type": "code",
   "execution_count": 26,
   "id": "fecbd750-db60-4cf7-9fe9-29c0daa734db",
   "metadata": {},
   "outputs": [
    {
     "data": {
      "text/plain": [
       "Index(['PewDiePie', 'MLG Highlights', '5-Minute Crafts', 'Sen Anlat Karadeniz',\n",
       "       'The Late Late Show with James Corden'],\n",
       "      dtype='object', name='channel_title')"
      ]
     },
     "execution_count": 26,
     "metadata": {},
     "output_type": "execute_result"
    }
   ],
   "source": [
    "channel_with_more_videos_and_View(5)"
   ]
  },
  {
   "cell_type": "code",
   "execution_count": 27,
   "id": "e97e84e7-1183-4e4e-acb7-d057193a208a",
   "metadata": {},
   "outputs": [],
   "source": [
    "#video with the most view per channel"
   ]
  },
  {
   "cell_type": "code",
   "execution_count": 42,
   "id": "48dfe80c-7672-4a8e-9f91-0f4b8c7f1daa",
   "metadata": {},
   "outputs": [],
   "source": [
    "def video_rec(channel):\n",
    "    \n",
    "    channel_withmoreviews = df.groupby('title')[['views']].sum().reset_index()\n",
    "    channel_withmoreviews.sort_values(by='views',inplace=True,ascending=False)\n",
    "    channel_withmoreviews\n",
    "    return video"
   ]
  },
  {
   "cell_type": "code",
   "execution_count": null,
   "id": "2addfa91-8067-434a-8b6d-8ecfdb5815f4",
   "metadata": {},
   "outputs": [],
   "source": [
    "def video_rec(channel):"
   ]
  },
  {
   "cell_type": "code",
   "execution_count": 29,
   "id": "059f0280-2acd-42c6-b734-c3e4803cc5e0",
   "metadata": {},
   "outputs": [],
   "source": [
    "#monthly pop video per chanel"
   ]
  },
  {
   "cell_type": "code",
   "execution_count": 30,
   "id": "4b101901-d575-44d7-971c-d20f38884441",
   "metadata": {},
   "outputs": [
    {
     "ename": "TypeError",
     "evalue": "reset_index() got an unexpected keyword argument 'name'",
     "output_type": "error",
     "traceback": [
      "\u001b[0;31m---------------------------------------------------------------------------\u001b[0m",
      "\u001b[0;31mTypeError\u001b[0m                                 Traceback (most recent call last)",
      "Input \u001b[0;32mIn [30]\u001b[0m, in \u001b[0;36m<cell line: 1>\u001b[0;34m()\u001b[0m\n\u001b[0;32m----> 1\u001b[0m chanelsbysizeandview \u001b[38;5;241m=\u001b[39m \u001b[43mpd\u001b[49m\u001b[38;5;241;43m.\u001b[39;49m\u001b[43mDataFrame\u001b[49m\u001b[43m(\u001b[49m\u001b[43mdf\u001b[49m\u001b[43m[\u001b[49m\u001b[43m[\u001b[49m\u001b[38;5;124;43m'\u001b[39;49m\u001b[38;5;124;43mchannel_title\u001b[39;49m\u001b[38;5;124;43m'\u001b[39;49m\u001b[43m,\u001b[49m\u001b[43m \u001b[49m\u001b[38;5;124;43m'\u001b[39;49m\u001b[38;5;124;43mtitle\u001b[39;49m\u001b[38;5;124;43m'\u001b[39;49m\u001b[43m,\u001b[49m\u001b[38;5;124;43m'\u001b[39;49m\u001b[38;5;124;43mviews\u001b[39;49m\u001b[38;5;124;43m'\u001b[39;49m\u001b[43m]\u001b[49m\u001b[43m]\u001b[49m\u001b[38;5;241;43m.\u001b[39;49m\u001b[43mgroupby\u001b[49m\u001b[43m(\u001b[49m\u001b[38;5;124;43m'\u001b[39;49m\u001b[38;5;124;43mchannel_title\u001b[39;49m\u001b[38;5;124;43m'\u001b[39;49m\u001b[43m)\u001b[49m\u001b[43m[\u001b[49m\u001b[38;5;124;43m'\u001b[39;49m\u001b[38;5;124;43mviews\u001b[39;49m\u001b[38;5;124;43m'\u001b[39;49m\u001b[43m]\u001b[49m\u001b[38;5;241;43m.\u001b[39;49m\u001b[43mmean\u001b[49m\u001b[43m(\u001b[49m\u001b[43m)\u001b[49m\u001b[43m)\u001b[49m\u001b[38;5;241;43m.\u001b[39;49m\u001b[43mreset_index\u001b[49m\u001b[43m(\u001b[49m\u001b[43mname\u001b[49m\u001b[38;5;241;43m=\u001b[39;49m\u001b[38;5;124;43m\"\u001b[39;49m\u001b[38;5;124;43mview_mean\u001b[39;49m\u001b[38;5;124;43m\"\u001b[39;49m\u001b[43m)\u001b[49m\n\u001b[1;32m      2\u001b[0m chanelsbysizeandview[\u001b[38;5;124m'\u001b[39m\u001b[38;5;124mchannels_count\u001b[39m\u001b[38;5;124m'\u001b[39m] \u001b[38;5;241m=\u001b[39m df[[\u001b[38;5;124m'\u001b[39m\u001b[38;5;124mchannel_title\u001b[39m\u001b[38;5;124m'\u001b[39m,\u001b[38;5;124m'\u001b[39m\u001b[38;5;124mviews\u001b[39m\u001b[38;5;124m'\u001b[39m]]\u001b[38;5;241m.\u001b[39mgroupby(\u001b[38;5;124m'\u001b[39m\u001b[38;5;124mchannel_title\u001b[39m\u001b[38;5;124m'\u001b[39m)[\u001b[38;5;124m'\u001b[39m\u001b[38;5;124mviews\u001b[39m\u001b[38;5;124m'\u001b[39m]\u001b[38;5;241m.\u001b[39mcount()\n\u001b[1;32m      4\u001b[0m chanelsbysizeandview_avg \u001b[38;5;241m=\u001b[39m chanelsbysizeandview\u001b[38;5;241m.\u001b[39mloc[(chanelsbysizeandview\u001b[38;5;241m.\u001b[39mviews \u001b[38;5;241m>\u001b[39m\u001b[38;5;241m=\u001b[39m \u001b[38;5;241m800000\u001b[39m) \u001b[38;5;241m&\u001b[39m (chanelsbysizeandview\u001b[38;5;241m.\u001b[39mchannels_count \u001b[38;5;241m>\u001b[39m\u001b[38;5;241m=\u001b[39m \u001b[38;5;241m50\u001b[39m)]\n",
      "File \u001b[0;32m~/opt/anaconda3/lib/python3.9/site-packages/pandas/util/_decorators.py:311\u001b[0m, in \u001b[0;36mdeprecate_nonkeyword_arguments.<locals>.decorate.<locals>.wrapper\u001b[0;34m(*args, **kwargs)\u001b[0m\n\u001b[1;32m    305\u001b[0m \u001b[38;5;28;01mif\u001b[39;00m \u001b[38;5;28mlen\u001b[39m(args) \u001b[38;5;241m>\u001b[39m num_allow_args:\n\u001b[1;32m    306\u001b[0m     warnings\u001b[38;5;241m.\u001b[39mwarn(\n\u001b[1;32m    307\u001b[0m         msg\u001b[38;5;241m.\u001b[39mformat(arguments\u001b[38;5;241m=\u001b[39marguments),\n\u001b[1;32m    308\u001b[0m         \u001b[38;5;167;01mFutureWarning\u001b[39;00m,\n\u001b[1;32m    309\u001b[0m         stacklevel\u001b[38;5;241m=\u001b[39mstacklevel,\n\u001b[1;32m    310\u001b[0m     )\n\u001b[0;32m--> 311\u001b[0m \u001b[38;5;28;01mreturn\u001b[39;00m \u001b[43mfunc\u001b[49m\u001b[43m(\u001b[49m\u001b[38;5;241;43m*\u001b[39;49m\u001b[43margs\u001b[49m\u001b[43m,\u001b[49m\u001b[43m \u001b[49m\u001b[38;5;241;43m*\u001b[39;49m\u001b[38;5;241;43m*\u001b[39;49m\u001b[43mkwargs\u001b[49m\u001b[43m)\u001b[49m\n",
      "\u001b[0;31mTypeError\u001b[0m: reset_index() got an unexpected keyword argument 'name'"
     ]
    }
   ],
   "source": [
    "chanelsbysizeandview = pd.DataFrame(df[['channel_title', 'title','views']].groupby('channel_title')['views'].mean()).reset_index(name=\"view_mean\")\n",
    "chanelsbysizeandview['channels_count'] = df[['channel_title','views']].groupby('channel_title')['views'].count()\n",
    "\n",
    "chanelsbysizeandview_avg = chanelsbysizeandview.loc[(chanelsbysizeandview.views >= 800000) & (chanelsbysizeandview.channels_count >= 50)]\n",
    "\n",
    "topn_chanelsbysizeand_views =  chanelsbysizeandviewrec.sort_values(by=('views'), ascending=False).head(20)#.reset_index()\n",
    "\n",
    "top_recommendations = topn_chanelsbysizeand_views[['channel_title', 'title']]\n",
    "top_recommendations"
   ]
  },
  {
   "cell_type": "code",
   "execution_count": 31,
   "id": "9ce8bd27-4d95-48a5-90d8-ea7d1ac1e9a5",
   "metadata": {},
   "outputs": [
    {
     "ename": "NameError",
     "evalue": "name 'chanelsbysizeandview_avg' is not defined",
     "output_type": "error",
     "traceback": [
      "\u001b[0;31m---------------------------------------------------------------------------\u001b[0m",
      "\u001b[0;31mNameError\u001b[0m                                 Traceback (most recent call last)",
      "Input \u001b[0;32mIn [31]\u001b[0m, in \u001b[0;36m<cell line: 1>\u001b[0;34m()\u001b[0m\n\u001b[0;32m----> 1\u001b[0m recommendations \u001b[38;5;241m=\u001b[39m \u001b[43mchanelsbysizeandview_avg\u001b[49m\u001b[38;5;241m.\u001b[39mmerge(df[[\u001b[38;5;124m'\u001b[39m\u001b[38;5;124mtitle\u001b[39m\u001b[38;5;124m'\u001b[39m, \u001b[38;5;124m'\u001b[39m\u001b[38;5;124mchannel_title\u001b[39m\u001b[38;5;124m'\u001b[39m]], left_index\u001b[38;5;241m=\u001b[39m\u001b[38;5;28;01mTrue\u001b[39;00m, right_on\u001b[38;5;241m=\u001b[39m\u001b[38;5;124m\"\u001b[39m\u001b[38;5;124mchannel_title\u001b[39m\u001b[38;5;124m\"\u001b[39m)\u001b[38;5;241m.\u001b[39mreset_index()\n\u001b[1;32m      3\u001b[0m recommendations\n",
      "\u001b[0;31mNameError\u001b[0m: name 'chanelsbysizeandview_avg' is not defined"
     ]
    }
   ],
   "source": [
    "recommendations = chanelsbysizeandview_avg.merge(df[['title', 'channel_title']], left_index=True, right_on=\"channel_title\").reset_index()\n",
    "\n",
    "recommendations"
   ]
  },
  {
   "cell_type": "code",
   "execution_count": 32,
   "id": "144c26b0-ce8e-4519-aeb9-7c28f0af84e6",
   "metadata": {},
   "outputs": [
    {
     "ename": "NameError",
     "evalue": "name 'recommendations' is not defined",
     "output_type": "error",
     "traceback": [
      "\u001b[0;31m---------------------------------------------------------------------------\u001b[0m",
      "\u001b[0;31mNameError\u001b[0m                                 Traceback (most recent call last)",
      "Input \u001b[0;32mIn [32]\u001b[0m, in \u001b[0;36m<cell line: 1>\u001b[0;34m()\u001b[0m\n\u001b[0;32m----> 1\u001b[0m \u001b[43mrecommendations\u001b[49m[[\u001b[38;5;124m'\u001b[39m\u001b[38;5;124mchannel_title\u001b[39m\u001b[38;5;124m'\u001b[39m,\u001b[38;5;124m'\u001b[39m\u001b[38;5;124mtitle\u001b[39m\u001b[38;5;124m'\u001b[39m]]\n",
      "\u001b[0;31mNameError\u001b[0m: name 'recommendations' is not defined"
     ]
    }
   ],
   "source": [
    "recommendations[['channel_title','title']]"
   ]
  },
  {
   "cell_type": "markdown",
   "id": "1f65a4f7-9cdf-47c6-a186-8db8004a7fe2",
   "metadata": {},
   "source": [
    "# we should do both channel and viewer base recommender system"
   ]
  },
  {
   "cell_type": "code",
   "execution_count": 34,
   "id": "263a3c71-c5b9-48eb-a4ae-6bb033c94dae",
   "metadata": {},
   "outputs": [],
   "source": [
    "#In certain countries, popular shorts may be highlighted on a shelf within the trending page\n",
    "\n",
    "#The list of trending videos is updated roughly every 15 minutes. With each update, videos may move up, down, or stay in the same position in the list."
   ]
  },
  {
   "cell_type": "code",
   "execution_count": null,
   "id": "b2031e6c-d3fc-45d9-a3a3-98fd3669b384",
   "metadata": {},
   "outputs": [],
   "source": []
  },
  {
   "cell_type": "code",
   "execution_count": 35,
   "id": "ef43f926-18c2-4540-a8c9-cecb4305b2e9",
   "metadata": {},
   "outputs": [
    {
     "data": {
      "image/png": "[encoded data removed]",
      "text/plain": [
       "<Figure size 720x432 with 2 Axes>"
      ]
     },
     "metadata": {
      "needs_background": "light"
     },
     "output_type": "display_data"
    }
   ],
   "source": [
    "plt.figure(figsize=(10,6))\n",
    "sns.heatmap(df.corr(),cmap=plt.cm.Reds,annot=True)\n",
    "plt.title('Heatmap displaying the relationship betweennthe features of the data',\n",
    "         fontsize=13)\n",
    "plt.show()"
   ]
  },
  {
   "cell_type": "code",
   "execution_count": 36,
   "id": "4f6afaca-d768-4022-b0db-ebe6b69064ad",
   "metadata": {
    "tags": []
   },
   "outputs": [
    {
     "data": {
      "text/html": [
       "<div>\n",
       "<style scoped>\n",
       "    .dataframe tbody tr th:only-of-type {\n",
       "        vertical-align: middle;\n",
       "    }\n",
       "\n",
       "    .dataframe tbody tr th {\n",
       "        vertical-align: top;\n",
       "    }\n",
       "\n",
       "    .dataframe thead th {\n",
       "        text-align: right;\n",
       "    }\n",
       "</style>\n",
       "<table border=\"1\" class=\"dataframe\">\n",
       "  <thead>\n",
       "    <tr style=\"text-align: right;\">\n",
       "      <th></th>\n",
       "      <th>views</th>\n",
       "      <th>view_count</th>\n",
       "    </tr>\n",
       "    <tr>\n",
       "      <th>video_id</th>\n",
       "      <th></th>\n",
       "      <th></th>\n",
       "    </tr>\n",
       "  </thead>\n",
       "  <tbody>\n",
       "    <tr>\n",
       "      <th>--7vNbh4UNA</th>\n",
       "      <td>1.082647e+06</td>\n",
       "      <td>1</td>\n",
       "    </tr>\n",
       "    <tr>\n",
       "      <th>--I0aj8MUdU</th>\n",
       "      <td>1.182765e+05</td>\n",
       "      <td>2</td>\n",
       "    </tr>\n",
       "    <tr>\n",
       "      <th>--MtKsH5oBY</th>\n",
       "      <td>3.680030e+05</td>\n",
       "      <td>2</td>\n",
       "    </tr>\n",
       "    <tr>\n",
       "      <th>--moh3hSPpY</th>\n",
       "      <td>1.705000e+04</td>\n",
       "      <td>1</td>\n",
       "    </tr>\n",
       "    <tr>\n",
       "      <th>--rE6D0_jAw</th>\n",
       "      <td>5.406000e+03</td>\n",
       "      <td>1</td>\n",
       "    </tr>\n",
       "    <tr>\n",
       "      <th>...</th>\n",
       "      <td>...</td>\n",
       "      <td>...</td>\n",
       "    </tr>\n",
       "    <tr>\n",
       "      <th>zyzuut5pZDg</th>\n",
       "      <td>5.829495e+05</td>\n",
       "      <td>2</td>\n",
       "    </tr>\n",
       "    <tr>\n",
       "      <th>zz-RpiUFY-I</th>\n",
       "      <td>1.410140e+05</td>\n",
       "      <td>2</td>\n",
       "    </tr>\n",
       "    <tr>\n",
       "      <th>zz2ZSsUUbFs</th>\n",
       "      <td>1.327600e+04</td>\n",
       "      <td>2</td>\n",
       "    </tr>\n",
       "    <tr>\n",
       "      <th>zzHW6gJG7W0</th>\n",
       "      <td>4.757527e+05</td>\n",
       "      <td>3</td>\n",
       "    </tr>\n",
       "    <tr>\n",
       "      <th>zzokx9oX77k</th>\n",
       "      <td>5.798000e+03</td>\n",
       "      <td>1</td>\n",
       "    </tr>\n",
       "  </tbody>\n",
       "</table>\n",
       "<p>29627 rows × 2 columns</p>\n",
       "</div>"
      ],
      "text/plain": [
       "                    views  view_count\n",
       "video_id                             \n",
       "--7vNbh4UNA  1.082647e+06           1\n",
       "--I0aj8MUdU  1.182765e+05           2\n",
       "--MtKsH5oBY  3.680030e+05           2\n",
       "--moh3hSPpY  1.705000e+04           1\n",
       "--rE6D0_jAw  5.406000e+03           1\n",
       "...                   ...         ...\n",
       "zyzuut5pZDg  5.829495e+05           2\n",
       "zz-RpiUFY-I  1.410140e+05           2\n",
       "zz2ZSsUUbFs  1.327600e+04           2\n",
       "zzHW6gJG7W0  4.757527e+05           3\n",
       "zzokx9oX77k  5.798000e+03           1\n",
       "\n",
       "[29627 rows x 2 columns]"
      ]
     },
     "execution_count": 36,
     "metadata": {},
     "output_type": "execute_result"
    }
   ],
   "source": [
    "df_views_likes_dislikes_comment_count_avg = pd.DataFrame(df_views_likes_dislikes_comment_count.groupby('video_id')['views'].mean())\n",
    "df_views_likes_dislikes_comment_count_avg['view_count'] = df_views_likes_dislikes_comment_count.groupby('video_id')['views'].count()\n",
    "df_views_likes_dislikes_comment_count_avg"
   ]
  },
  {
   "cell_type": "code",
   "execution_count": 37,
   "id": "df073623-0a3d-452a-be74-84c6dda69c6a",
   "metadata": {},
   "outputs": [
    {
     "data": {
      "text/html": [
       "<div>\n",
       "<style scoped>\n",
       "    .dataframe tbody tr th:only-of-type {\n",
       "        vertical-align: middle;\n",
       "    }\n",
       "\n",
       "    .dataframe tbody tr th {\n",
       "        vertical-align: top;\n",
       "    }\n",
       "\n",
       "    .dataframe thead th {\n",
       "        text-align: right;\n",
       "    }\n",
       "</style>\n",
       "<table border=\"1\" class=\"dataframe\">\n",
       "  <thead>\n",
       "    <tr style=\"text-align: right;\">\n",
       "      <th></th>\n",
       "      <th>views</th>\n",
       "      <th>view_count</th>\n",
       "    </tr>\n",
       "    <tr>\n",
       "      <th>video_id</th>\n",
       "      <th></th>\n",
       "      <th></th>\n",
       "    </tr>\n",
       "  </thead>\n",
       "  <tbody>\n",
       "    <tr>\n",
       "      <th>FlsCjmMhFmw</th>\n",
       "      <td>73630769.2</td>\n",
       "      <td>5</td>\n",
       "    </tr>\n",
       "    <tr>\n",
       "      <th>-BQJo3vK8O8</th>\n",
       "      <td>31447444.2</td>\n",
       "      <td>5</td>\n",
       "    </tr>\n",
       "    <tr>\n",
       "      <th>xpVfcZ0ZcFM</th>\n",
       "      <td>22598626.4</td>\n",
       "      <td>5</td>\n",
       "    </tr>\n",
       "    <tr>\n",
       "      <th>6ZfuNTqbHE8</th>\n",
       "      <td>63178181.8</td>\n",
       "      <td>5</td>\n",
       "    </tr>\n",
       "    <tr>\n",
       "      <th>ffxKSjUwKdU</th>\n",
       "      <td>22963368.6</td>\n",
       "      <td>5</td>\n",
       "    </tr>\n",
       "    <tr>\n",
       "      <th>aJOTlE1K90k</th>\n",
       "      <td>17416724.8</td>\n",
       "      <td>5</td>\n",
       "    </tr>\n",
       "    <tr>\n",
       "      <th>wbSwFU6tY1c</th>\n",
       "      <td>15826146.8</td>\n",
       "      <td>5</td>\n",
       "    </tr>\n",
       "    <tr>\n",
       "      <th>yDiXQl7grPQ</th>\n",
       "      <td>20979258.4</td>\n",
       "      <td>5</td>\n",
       "    </tr>\n",
       "    <tr>\n",
       "      <th>YBpdL9hSac4</th>\n",
       "      <td>14603035.0</td>\n",
       "      <td>5</td>\n",
       "    </tr>\n",
       "    <tr>\n",
       "      <th>u9Mv98Gr5pY</th>\n",
       "      <td>32880985.8</td>\n",
       "      <td>5</td>\n",
       "    </tr>\n",
       "  </tbody>\n",
       "</table>\n",
       "</div>"
      ],
      "text/plain": [
       "                  views  view_count\n",
       "video_id                           \n",
       "FlsCjmMhFmw  73630769.2           5\n",
       "-BQJo3vK8O8  31447444.2           5\n",
       "xpVfcZ0ZcFM  22598626.4           5\n",
       "6ZfuNTqbHE8  63178181.8           5\n",
       "ffxKSjUwKdU  22963368.6           5\n",
       "aJOTlE1K90k  17416724.8           5\n",
       "wbSwFU6tY1c  15826146.8           5\n",
       "yDiXQl7grPQ  20979258.4           5\n",
       "YBpdL9hSac4  14603035.0           5\n",
       "u9Mv98Gr5pY  32880985.8           5"
      ]
     },
     "execution_count": 37,
     "metadata": {},
     "output_type": "execute_result"
    }
   ],
   "source": [
    "df_views_likes_dislikes_comment_count_avg.sort_values('views', ascending=False).head(50).sort_values('view_count', ascending=False).head(10)"
   ]
  },
  {
   "cell_type": "code",
   "execution_count": null,
   "id": "0ad1e6c0-870c-49d6-9933-4f3603ef3b6e",
   "metadata": {},
   "outputs": [],
   "source": []
  }
 ],
 "metadata": {
  "kernelspec": {
   "display_name": "Python 3 (ipykernel)",
   "language": "python",
   "name": "python3"
  },
  "language_info": {
   "codemirror_mode": {
    "name": "ipython",
    "version": 3
   },
   "file_extension": ".py",
   "mimetype": "text/x-python",
   "name": "python",
   "nbconvert_exporter": "python",
   "pygments_lexer": "ipython3",
   "version": "3.9.12"
  }
 },
 "nbformat": 4,
 "nbformat_minor": 5
}
